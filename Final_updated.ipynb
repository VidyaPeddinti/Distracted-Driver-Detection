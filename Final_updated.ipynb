{
  "cells": [
    {
      "cell_type": "code",
      "execution_count": null,
      "metadata": {
        "colab": {
          "base_uri": "https://localhost:8080/"
        },
        "id": "G6efD3AEQCPm",
        "outputId": "9a56edfe-9518-4126-c3b4-57fd0b1ed419"
      },
      "outputs": [
        {
          "output_type": "stream",
          "name": "stdout",
          "text": [
            "Looking in indexes: https://pypi.org/simple, https://us-python.pkg.dev/colab-wheels/public/simple/\n",
            "Collecting tensorflow==2.9.1\n",
            "  Downloading tensorflow-2.9.1-cp310-cp310-manylinux_2_17_x86_64.manylinux2014_x86_64.whl (511.7 MB)\n",
            "\u001b[2K     \u001b[90m━━━━━━━━━━━━━━━━━━━━━━━━━━━━━━━━━━━━━━━\u001b[0m \u001b[32m511.7/511.7 MB\u001b[0m \u001b[31m2.9 MB/s\u001b[0m eta \u001b[36m0:00:00\u001b[0m\n",
            "\u001b[?25hCollecting flatbuffers<2,>=1.12\n",
            "  Downloading flatbuffers-1.12-py2.py3-none-any.whl (15 kB)\n",
            "Collecting tensorboard<2.10,>=2.9\n",
            "  Downloading tensorboard-2.9.1-py3-none-any.whl (5.8 MB)\n",
            "\u001b[2K     \u001b[90m━━━━━━━━━━━━━━━━━━━━━━━━━━━━━━━━━━━━━━━━\u001b[0m \u001b[32m5.8/5.8 MB\u001b[0m \u001b[31m74.8 MB/s\u001b[0m eta \u001b[36m0:00:00\u001b[0m\n",
            "\u001b[?25hRequirement already satisfied: typing-extensions>=3.6.6 in /usr/local/lib/python3.10/dist-packages (from tensorflow==2.9.1) (4.5.0)\n",
            "Requirement already satisfied: termcolor>=1.1.0 in /usr/local/lib/python3.10/dist-packages (from tensorflow==2.9.1) (2.3.0)\n",
            "Requirement already satisfied: gast<=0.4.0,>=0.2.1 in /usr/local/lib/python3.10/dist-packages (from tensorflow==2.9.1) (0.4.0)\n",
            "Requirement already satisfied: packaging in /usr/local/lib/python3.10/dist-packages (from tensorflow==2.9.1) (23.1)\n",
            "Requirement already satisfied: grpcio<2.0,>=1.24.3 in /usr/local/lib/python3.10/dist-packages (from tensorflow==2.9.1) (1.54.0)\n",
            "Collecting keras-preprocessing>=1.1.1\n",
            "  Downloading Keras_Preprocessing-1.1.2-py2.py3-none-any.whl (42 kB)\n",
            "\u001b[2K     \u001b[90m━━━━━━━━━━━━━━━━━━━━━━━━━━━━━━━━━━━━━━━━\u001b[0m \u001b[32m42.6/42.6 kB\u001b[0m \u001b[31m5.4 MB/s\u001b[0m eta \u001b[36m0:00:00\u001b[0m\n",
            "\u001b[?25hCollecting keras<2.10.0,>=2.9.0rc0\n",
            "  Downloading keras-2.9.0-py2.py3-none-any.whl (1.6 MB)\n",
            "\u001b[2K     \u001b[90m━━━━━━━━━━━━━━━━━━━━━━━━━━━━━━━━━━━━━━━━\u001b[0m \u001b[32m1.6/1.6 MB\u001b[0m \u001b[31m39.6 MB/s\u001b[0m eta \u001b[36m0:00:00\u001b[0m\n",
            "\u001b[?25hRequirement already satisfied: setuptools in /usr/local/lib/python3.10/dist-packages (from tensorflow==2.9.1) (67.7.2)\n",
            "Requirement already satisfied: six>=1.12.0 in /usr/local/lib/python3.10/dist-packages (from tensorflow==2.9.1) (1.16.0)\n",
            "Requirement already satisfied: google-pasta>=0.1.1 in /usr/local/lib/python3.10/dist-packages (from tensorflow==2.9.1) (0.2.0)\n",
            "Requirement already satisfied: libclang>=13.0.0 in /usr/local/lib/python3.10/dist-packages (from tensorflow==2.9.1) (16.0.0)\n",
            "Requirement already satisfied: opt-einsum>=2.3.2 in /usr/local/lib/python3.10/dist-packages (from tensorflow==2.9.1) (3.3.0)\n",
            "Collecting tensorflow-estimator<2.10.0,>=2.9.0rc0\n",
            "  Downloading tensorflow_estimator-2.9.0-py2.py3-none-any.whl (438 kB)\n",
            "\u001b[2K     \u001b[90m━━━━━━━━━━━━━━━━━━━━━━━━━━━━━━━━━━━━━━\u001b[0m \u001b[32m438.7/438.7 kB\u001b[0m \u001b[31m29.0 MB/s\u001b[0m eta \u001b[36m0:00:00\u001b[0m\n",
            "\u001b[?25hRequirement already satisfied: h5py>=2.9.0 in /usr/local/lib/python3.10/dist-packages (from tensorflow==2.9.1) (3.8.0)\n",
            "Requirement already satisfied: wrapt>=1.11.0 in /usr/local/lib/python3.10/dist-packages (from tensorflow==2.9.1) (1.14.1)\n",
            "Requirement already satisfied: absl-py>=1.0.0 in /usr/local/lib/python3.10/dist-packages (from tensorflow==2.9.1) (1.4.0)\n",
            "Requirement already satisfied: astunparse>=1.6.0 in /usr/local/lib/python3.10/dist-packages (from tensorflow==2.9.1) (1.6.3)\n",
            "Collecting protobuf<3.20,>=3.9.2\n",
            "  Downloading protobuf-3.19.6-cp310-cp310-manylinux_2_17_x86_64.manylinux2014_x86_64.whl (1.1 MB)\n",
            "\u001b[2K     \u001b[90m━━━━━━━━━━━━━━━━━━━━━━━━━━━━━━━━━━━━━━━━\u001b[0m \u001b[32m1.1/1.1 MB\u001b[0m \u001b[31m36.7 MB/s\u001b[0m eta \u001b[36m0:00:00\u001b[0m\n",
            "\u001b[?25hRequirement already satisfied: tensorflow-io-gcs-filesystem>=0.23.1 in /usr/local/lib/python3.10/dist-packages (from tensorflow==2.9.1) (0.32.0)\n",
            "Requirement already satisfied: numpy>=1.20 in /usr/local/lib/python3.10/dist-packages (from tensorflow==2.9.1) (1.22.4)\n",
            "Requirement already satisfied: wheel<1.0,>=0.23.0 in /usr/local/lib/python3.10/dist-packages (from astunparse>=1.6.0->tensorflow==2.9.1) (0.40.0)\n",
            "Requirement already satisfied: requests<3,>=2.21.0 in /usr/local/lib/python3.10/dist-packages (from tensorboard<2.10,>=2.9->tensorflow==2.9.1) (2.27.1)\n",
            "Collecting google-auth-oauthlib<0.5,>=0.4.1\n",
            "  Downloading google_auth_oauthlib-0.4.6-py2.py3-none-any.whl (18 kB)\n",
            "Collecting tensorboard-data-server<0.7.0,>=0.6.0\n",
            "  Downloading tensorboard_data_server-0.6.1-py3-none-manylinux2010_x86_64.whl (4.9 MB)\n",
            "\u001b[2K     \u001b[90m━━━━━━━━━━━━━━━━━━━━━━━━━━━━━━━━━━━━━━━━\u001b[0m \u001b[32m4.9/4.9 MB\u001b[0m \u001b[31m27.3 MB/s\u001b[0m eta \u001b[36m0:00:00\u001b[0m\n",
            "\u001b[?25hRequirement already satisfied: werkzeug>=1.0.1 in /usr/local/lib/python3.10/dist-packages (from tensorboard<2.10,>=2.9->tensorflow==2.9.1) (2.3.0)\n",
            "Requirement already satisfied: tensorboard-plugin-wit>=1.6.0 in /usr/local/lib/python3.10/dist-packages (from tensorboard<2.10,>=2.9->tensorflow==2.9.1) (1.8.1)\n",
            "Requirement already satisfied: google-auth<3,>=1.6.3 in /usr/local/lib/python3.10/dist-packages (from tensorboard<2.10,>=2.9->tensorflow==2.9.1) (2.17.3)\n",
            "Requirement already satisfied: markdown>=2.6.8 in /usr/local/lib/python3.10/dist-packages (from tensorboard<2.10,>=2.9->tensorflow==2.9.1) (3.4.3)\n",
            "Requirement already satisfied: cachetools<6.0,>=2.0.0 in /usr/local/lib/python3.10/dist-packages (from google-auth<3,>=1.6.3->tensorboard<2.10,>=2.9->tensorflow==2.9.1) (5.3.0)\n",
            "Requirement already satisfied: pyasn1-modules>=0.2.1 in /usr/local/lib/python3.10/dist-packages (from google-auth<3,>=1.6.3->tensorboard<2.10,>=2.9->tensorflow==2.9.1) (0.3.0)\n",
            "Requirement already satisfied: rsa<5,>=3.1.4 in /usr/local/lib/python3.10/dist-packages (from google-auth<3,>=1.6.3->tensorboard<2.10,>=2.9->tensorflow==2.9.1) (4.9)\n",
            "Requirement already satisfied: requests-oauthlib>=0.7.0 in /usr/local/lib/python3.10/dist-packages (from google-auth-oauthlib<0.5,>=0.4.1->tensorboard<2.10,>=2.9->tensorflow==2.9.1) (1.3.1)\n",
            "Requirement already satisfied: urllib3<1.27,>=1.21.1 in /usr/local/lib/python3.10/dist-packages (from requests<3,>=2.21.0->tensorboard<2.10,>=2.9->tensorflow==2.9.1) (1.26.15)\n",
            "Requirement already satisfied: certifi>=2017.4.17 in /usr/local/lib/python3.10/dist-packages (from requests<3,>=2.21.0->tensorboard<2.10,>=2.9->tensorflow==2.9.1) (2022.12.7)\n",
            "Requirement already satisfied: idna<4,>=2.5 in /usr/local/lib/python3.10/dist-packages (from requests<3,>=2.21.0->tensorboard<2.10,>=2.9->tensorflow==2.9.1) (3.4)\n",
            "Requirement already satisfied: charset-normalizer~=2.0.0 in /usr/local/lib/python3.10/dist-packages (from requests<3,>=2.21.0->tensorboard<2.10,>=2.9->tensorflow==2.9.1) (2.0.12)\n",
            "Requirement already satisfied: MarkupSafe>=2.1.1 in /usr/local/lib/python3.10/dist-packages (from werkzeug>=1.0.1->tensorboard<2.10,>=2.9->tensorflow==2.9.1) (2.1.2)\n",
            "Requirement already satisfied: pyasn1<0.6.0,>=0.4.6 in /usr/local/lib/python3.10/dist-packages (from pyasn1-modules>=0.2.1->google-auth<3,>=1.6.3->tensorboard<2.10,>=2.9->tensorflow==2.9.1) (0.5.0)\n",
            "Requirement already satisfied: oauthlib>=3.0.0 in /usr/local/lib/python3.10/dist-packages (from requests-oauthlib>=0.7.0->google-auth-oauthlib<0.5,>=0.4.1->tensorboard<2.10,>=2.9->tensorflow==2.9.1) (3.2.2)\n",
            "Installing collected packages: keras, flatbuffers, tensorflow-estimator, tensorboard-data-server, protobuf, keras-preprocessing, google-auth-oauthlib, tensorboard, tensorflow\n",
            "  Attempting uninstall: keras\n",
            "    Found existing installation: keras 2.12.0\n",
            "    Uninstalling keras-2.12.0:\n",
            "      Successfully uninstalled keras-2.12.0\n",
            "  Attempting uninstall: flatbuffers\n",
            "    Found existing installation: flatbuffers 23.3.3\n",
            "    Uninstalling flatbuffers-23.3.3:\n",
            "      Successfully uninstalled flatbuffers-23.3.3\n",
            "  Attempting uninstall: tensorflow-estimator\n",
            "    Found existing installation: tensorflow-estimator 2.12.0\n",
            "    Uninstalling tensorflow-estimator-2.12.0:\n",
            "      Successfully uninstalled tensorflow-estimator-2.12.0\n",
            "  Attempting uninstall: tensorboard-data-server\n",
            "    Found existing installation: tensorboard-data-server 0.7.0\n",
            "    Uninstalling tensorboard-data-server-0.7.0:\n",
            "      Successfully uninstalled tensorboard-data-server-0.7.0\n",
            "  Attempting uninstall: protobuf\n",
            "    Found existing installation: protobuf 3.20.3\n",
            "    Uninstalling protobuf-3.20.3:\n",
            "      Successfully uninstalled protobuf-3.20.3\n",
            "  Attempting uninstall: google-auth-oauthlib\n",
            "    Found existing installation: google-auth-oauthlib 1.0.0\n",
            "    Uninstalling google-auth-oauthlib-1.0.0:\n",
            "      Successfully uninstalled google-auth-oauthlib-1.0.0\n",
            "  Attempting uninstall: tensorboard\n",
            "    Found existing installation: tensorboard 2.12.2\n",
            "    Uninstalling tensorboard-2.12.2:\n",
            "      Successfully uninstalled tensorboard-2.12.2\n",
            "  Attempting uninstall: tensorflow\n",
            "    Found existing installation: tensorflow 2.12.0\n",
            "    Uninstalling tensorflow-2.12.0:\n",
            "      Successfully uninstalled tensorflow-2.12.0\n",
            "\u001b[31mERROR: pip's dependency resolver does not currently take into account all the packages that are installed. This behaviour is the source of the following dependency conflicts.\n",
            "tensorflow-metadata 1.13.1 requires protobuf<5,>=3.20.3, but you have protobuf 3.19.6 which is incompatible.\u001b[0m\u001b[31m\n",
            "\u001b[0mSuccessfully installed flatbuffers-1.12 google-auth-oauthlib-0.4.6 keras-2.9.0 keras-preprocessing-1.1.2 protobuf-3.19.6 tensorboard-2.9.1 tensorboard-data-server-0.6.1 tensorflow-2.9.1 tensorflow-estimator-2.9.0\n"
          ]
        }
      ],
      "source": [
        "pip install tensorflow==2.9.1"
      ]
    },
    {
      "cell_type": "code",
      "execution_count": null,
      "metadata": {
        "id": "zSSL4WWXQDaX"
      },
      "outputs": [],
      "source": [
        "#pip install tensorflow\n",
        "import numpy as np\n",
        "import pandas as pd\n",
        "import matplotlib.pyplot as plt\n",
        "import os\n",
        "\n",
        "import tensorflow as tf\n",
        "from tensorflow.keras.preprocessing.image import ImageDataGenerator\n",
        "from tensorflow.keras import Model\n",
        "from tensorflow.keras.layers import Input , GlobalAveragePooling2D , BatchNormalization , Dropout , Dense\n",
        "from tensorflow.keras.applications import EfficientNetB3\n",
        "from tensorflow.keras.callbacks import ModelCheckpoint , EarlyStopping"
      ]
    },
    {
      "cell_type": "code",
      "execution_count": null,
      "metadata": {
        "colab": {
          "base_uri": "https://localhost:8080/"
        },
        "id": "tb2rfDMRQDcv",
        "outputId": "22153144-e146-42d1-8f53-00c44d8e36cc"
      },
      "outputs": [
        {
          "output_type": "stream",
          "name": "stdout",
          "text": [
            "Fri Apr 28 08:44:46 2023       \n",
            "+-----------------------------------------------------------------------------+\n",
            "| NVIDIA-SMI 525.85.12    Driver Version: 525.85.12    CUDA Version: 12.0     |\n",
            "|-------------------------------+----------------------+----------------------+\n",
            "| GPU  Name        Persistence-M| Bus-Id        Disp.A | Volatile Uncorr. ECC |\n",
            "| Fan  Temp  Perf  Pwr:Usage/Cap|         Memory-Usage | GPU-Util  Compute M. |\n",
            "|                               |                      |               MIG M. |\n",
            "|===============================+======================+======================|\n",
            "|   0  Tesla T4            Off  | 00000000:00:04.0 Off |                    0 |\n",
            "| N/A   50C    P8     9W /  70W |      0MiB / 15360MiB |      0%      Default |\n",
            "|                               |                      |                  N/A |\n",
            "+-------------------------------+----------------------+----------------------+\n",
            "                                                                               \n",
            "+-----------------------------------------------------------------------------+\n",
            "| Processes:                                                                  |\n",
            "|  GPU   GI   CI        PID   Type   Process name                  GPU Memory |\n",
            "|        ID   ID                                                   Usage      |\n",
            "|=============================================================================|\n",
            "|  No running processes found                                                 |\n",
            "+-----------------------------------------------------------------------------+\n"
          ]
        }
      ],
      "source": [
        "!nvidia-smi"
      ]
    },
    {
      "cell_type": "code",
      "execution_count": null,
      "metadata": {
        "colab": {
          "base_uri": "https://localhost:8080/"
        },
        "id": "Fa3jetxmQDfh",
        "outputId": "bdb06488-21eb-4a3d-a1d6-9970c5ce27be"
      },
      "outputs": [
        {
          "output_type": "stream",
          "name": "stdout",
          "text": [
            "Mounted at /content/drive\n"
          ]
        }
      ],
      "source": [
        "from google.colab import drive\n",
        "drive.mount('/content/drive')"
      ]
    },
    {
      "cell_type": "code",
      "execution_count": null,
      "metadata": {
        "id": "FFiwbdCXQDh0"
      },
      "outputs": [],
      "source": [
        "dir = ('/content/drive')\n",
        "\n",
        "train_dir = os.path.join(dir , '/content/drive/MyDrive/Distracted Driver Detection/Train')\n",
        "#validation_dir = os.path.join(dir , '/content/drive/MyDrive/Distracted Driver Detection/Train')\n",
        "test_dir = os.path.join(dir , '/content/drive/MyDrive/Distracted Driver Detection/test')\n",
        "data = pd.read_csv(os.path.join(dir , '/content/drive/MyDrive/Distracted Driver Detection/driver_imgs_list.csv'))"
      ]
    },
    {
      "cell_type": "code",
      "execution_count": null,
      "metadata": {
        "colab": {
          "base_uri": "https://localhost:8080/",
          "height": 206
        },
        "id": "CTPbN12CQDka",
        "outputId": "ed8e213b-55d4-4007-8e2a-f2601e77987b"
      },
      "outputs": [
        {
          "output_type": "execute_result",
          "data": {
            "text/plain": [
              "  subject classname            img\n",
              "0    p002        c0  img_44733.jpg\n",
              "1    p002        c0  img_72999.jpg\n",
              "2    p002        c0  img_25094.jpg\n",
              "3    p002        c0  img_69092.jpg\n",
              "4    p002        c0  img_92629.jpg"
            ],
            "text/html": [
              "\n",
              "  <div id=\"df-e2a7a641-5cd4-43fb-a408-25e5cfd10ab8\">\n",
              "    <div class=\"colab-df-container\">\n",
              "      <div>\n",
              "<style scoped>\n",
              "    .dataframe tbody tr th:only-of-type {\n",
              "        vertical-align: middle;\n",
              "    }\n",
              "\n",
              "    .dataframe tbody tr th {\n",
              "        vertical-align: top;\n",
              "    }\n",
              "\n",
              "    .dataframe thead th {\n",
              "        text-align: right;\n",
              "    }\n",
              "</style>\n",
              "<table border=\"1\" class=\"dataframe\">\n",
              "  <thead>\n",
              "    <tr style=\"text-align: right;\">\n",
              "      <th></th>\n",
              "      <th>subject</th>\n",
              "      <th>classname</th>\n",
              "      <th>img</th>\n",
              "    </tr>\n",
              "  </thead>\n",
              "  <tbody>\n",
              "    <tr>\n",
              "      <th>0</th>\n",
              "      <td>p002</td>\n",
              "      <td>c0</td>\n",
              "      <td>img_44733.jpg</td>\n",
              "    </tr>\n",
              "    <tr>\n",
              "      <th>1</th>\n",
              "      <td>p002</td>\n",
              "      <td>c0</td>\n",
              "      <td>img_72999.jpg</td>\n",
              "    </tr>\n",
              "    <tr>\n",
              "      <th>2</th>\n",
              "      <td>p002</td>\n",
              "      <td>c0</td>\n",
              "      <td>img_25094.jpg</td>\n",
              "    </tr>\n",
              "    <tr>\n",
              "      <th>3</th>\n",
              "      <td>p002</td>\n",
              "      <td>c0</td>\n",
              "      <td>img_69092.jpg</td>\n",
              "    </tr>\n",
              "    <tr>\n",
              "      <th>4</th>\n",
              "      <td>p002</td>\n",
              "      <td>c0</td>\n",
              "      <td>img_92629.jpg</td>\n",
              "    </tr>\n",
              "  </tbody>\n",
              "</table>\n",
              "</div>\n",
              "      <button class=\"colab-df-convert\" onclick=\"convertToInteractive('df-e2a7a641-5cd4-43fb-a408-25e5cfd10ab8')\"\n",
              "              title=\"Convert this dataframe to an interactive table.\"\n",
              "              style=\"display:none;\">\n",
              "        \n",
              "  <svg xmlns=\"http://www.w3.org/2000/svg\" height=\"24px\"viewBox=\"0 0 24 24\"\n",
              "       width=\"24px\">\n",
              "    <path d=\"M0 0h24v24H0V0z\" fill=\"none\"/>\n",
              "    <path d=\"M18.56 5.44l.94 2.06.94-2.06 2.06-.94-2.06-.94-.94-2.06-.94 2.06-2.06.94zm-11 1L8.5 8.5l.94-2.06 2.06-.94-2.06-.94L8.5 2.5l-.94 2.06-2.06.94zm10 10l.94 2.06.94-2.06 2.06-.94-2.06-.94-.94-2.06-.94 2.06-2.06.94z\"/><path d=\"M17.41 7.96l-1.37-1.37c-.4-.4-.92-.59-1.43-.59-.52 0-1.04.2-1.43.59L10.3 9.45l-7.72 7.72c-.78.78-.78 2.05 0 2.83L4 21.41c.39.39.9.59 1.41.59.51 0 1.02-.2 1.41-.59l7.78-7.78 2.81-2.81c.8-.78.8-2.07 0-2.86zM5.41 20L4 18.59l7.72-7.72 1.47 1.35L5.41 20z\"/>\n",
              "  </svg>\n",
              "      </button>\n",
              "      \n",
              "  <style>\n",
              "    .colab-df-container {\n",
              "      display:flex;\n",
              "      flex-wrap:wrap;\n",
              "      gap: 12px;\n",
              "    }\n",
              "\n",
              "    .colab-df-convert {\n",
              "      background-color: #E8F0FE;\n",
              "      border: none;\n",
              "      border-radius: 50%;\n",
              "      cursor: pointer;\n",
              "      display: none;\n",
              "      fill: #1967D2;\n",
              "      height: 32px;\n",
              "      padding: 0 0 0 0;\n",
              "      width: 32px;\n",
              "    }\n",
              "\n",
              "    .colab-df-convert:hover {\n",
              "      background-color: #E2EBFA;\n",
              "      box-shadow: 0px 1px 2px rgba(60, 64, 67, 0.3), 0px 1px 3px 1px rgba(60, 64, 67, 0.15);\n",
              "      fill: #174EA6;\n",
              "    }\n",
              "\n",
              "    [theme=dark] .colab-df-convert {\n",
              "      background-color: #3B4455;\n",
              "      fill: #D2E3FC;\n",
              "    }\n",
              "\n",
              "    [theme=dark] .colab-df-convert:hover {\n",
              "      background-color: #434B5C;\n",
              "      box-shadow: 0px 1px 3px 1px rgba(0, 0, 0, 0.15);\n",
              "      filter: drop-shadow(0px 1px 2px rgba(0, 0, 0, 0.3));\n",
              "      fill: #FFFFFF;\n",
              "    }\n",
              "  </style>\n",
              "\n",
              "      <script>\n",
              "        const buttonEl =\n",
              "          document.querySelector('#df-e2a7a641-5cd4-43fb-a408-25e5cfd10ab8 button.colab-df-convert');\n",
              "        buttonEl.style.display =\n",
              "          google.colab.kernel.accessAllowed ? 'block' : 'none';\n",
              "\n",
              "        async function convertToInteractive(key) {\n",
              "          const element = document.querySelector('#df-e2a7a641-5cd4-43fb-a408-25e5cfd10ab8');\n",
              "          const dataTable =\n",
              "            await google.colab.kernel.invokeFunction('convertToInteractive',\n",
              "                                                     [key], {});\n",
              "          if (!dataTable) return;\n",
              "\n",
              "          const docLinkHtml = 'Like what you see? Visit the ' +\n",
              "            '<a target=\"_blank\" href=https://colab.research.google.com/notebooks/data_table.ipynb>data table notebook</a>'\n",
              "            + ' to learn more about interactive tables.';\n",
              "          element.innerHTML = '';\n",
              "          dataTable['output_type'] = 'display_data';\n",
              "          await google.colab.output.renderOutput(dataTable, element);\n",
              "          const docLink = document.createElement('div');\n",
              "          docLink.innerHTML = docLinkHtml;\n",
              "          element.appendChild(docLink);\n",
              "        }\n",
              "      </script>\n",
              "    </div>\n",
              "  </div>\n",
              "  "
            ]
          },
          "metadata": {},
          "execution_count": 6
        }
      ],
      "source": [
        "data.head()"
      ]
    },
    {
      "cell_type": "code",
      "execution_count": null,
      "metadata": {
        "colab": {
          "base_uri": "https://localhost:8080/",
          "height": 449
        },
        "id": "KmOKZIVbQDnS",
        "outputId": "42618f56-b356-4496-aa9b-9ad4f9a5b080"
      },
      "outputs": [
        {
          "output_type": "execute_result",
          "data": {
            "text/plain": [
              "<Axes: >"
            ]
          },
          "metadata": {},
          "execution_count": 7
        },
        {
          "output_type": "display_data",
          "data": {
            "text/plain": [
              "<Figure size 640x480 with 1 Axes>"
            ],
            "image/png": "[encoded data removed]"
          },
          "metadata": {}
        }
      ],
      "source": [
        "class_counts = data.classname.value_counts()\n",
        "\n",
        "class_counts.plot(kind = 'bar')"
      ]
    },
    {
      "cell_type": "code",
      "execution_count": null,
      "metadata": {
        "id": "9ApX1hUqQDp5"
      },
      "outputs": [],
      "source": [
        "IMG_SIZE = (224 ,224)\n",
        "BATCH_SIZE = 16"
      ]
    },
    {
      "cell_type": "code",
      "execution_count": null,
      "metadata": {
        "id": "7mK5AJWKQDsf"
      },
      "outputs": [],
      "source": [
        "train_gen = ImageDataGenerator(width_shift_range = 0.3,\n",
        "                               height_shift_range = 0.3,\n",
        "                               shear_range = 0.3,\n",
        "                               zoom_range = 0.4,\n",
        "                               validation_split = 0.2)\n",
        "\n",
        "test_gen = ImageDataGenerator()"
      ]
    },
    {
      "cell_type": "code",
      "execution_count": null,
      "metadata": {
        "colab": {
          "base_uri": "https://localhost:8080/"
        },
        "id": "-z-Hh4wlQDvE",
        "outputId": "9daaef32-a809-475b-b518-768b38d824eb"
      },
      "outputs": [
        {
          "output_type": "stream",
          "name": "stdout",
          "text": [
            "Found 16425 images belonging to 10 classes.\n"
          ]
        }
      ],
      "source": [
        "train_data = train_gen.flow_from_directory(train_dir,\n",
        "                                         target_size=IMG_SIZE,\n",
        "                                         batch_size=BATCH_SIZE,\n",
        "                                         subset='training',\n",
        "                                         seed = 42)"
      ]
    },
    {
      "cell_type": "code",
      "execution_count": null,
      "metadata": {
        "colab": {
          "base_uri": "https://localhost:8080/"
        },
        "id": "rMDS3n4gQDxl",
        "outputId": "ce083933-7407-4a40-f439-31f5ae4329a8"
      },
      "outputs": [
        {
          "output_type": "stream",
          "name": "stdout",
          "text": [
            "Found 4102 images belonging to 10 classes.\n"
          ]
        }
      ],
      "source": [
        "#Validating through the same Train data\n",
        "val_data = train_gen.flow_from_directory(train_dir,\n",
        "                                         target_size=IMG_SIZE,\n",
        "                                         batch_size=BATCH_SIZE,\n",
        "                                         subset='validation',\n",
        "                                         seed = 42)"
      ]
    },
    {
      "cell_type": "code",
      "execution_count": null,
      "metadata": {
        "colab": {
          "base_uri": "https://localhost:8080/"
        },
        "id": "BS2RY2p80hwn",
        "outputId": "98f7609a-f65e-4eb1-fa84-a58505147802"
      },
      "outputs": [
        {
          "output_type": "stream",
          "name": "stdout",
          "text": [
            "3.10.11\n",
            "2.9.1\n"
          ]
        }
      ],
      "source": [
        "from platform import python_version\n",
        "print(python_version())\n",
        "\n",
        "print(tf. __version__)"
      ]
    },
    {
      "cell_type": "code",
      "execution_count": null,
      "metadata": {
        "colab": {
          "base_uri": "https://localhost:8080/"
        },
        "id": "oppCzWlh1QiA",
        "outputId": "00d5f8fb-130e-4223-dc10-7e879b02e348"
      },
      "outputs": [
        {
          "output_type": "stream",
          "name": "stdout",
          "text": [
            "Looking in indexes: https://pypi.org/simple, https://us-python.pkg.dev/colab-wheels/public/simple/\n",
            "Collecting tfa-nightly\n",
            "  Downloading tfa_nightly-0.21.0.dev20230418145214-cp310-cp310-manylinux_2_17_x86_64.manylinux2014_x86_64.whl (591 kB)\n",
            "\u001b[2K     \u001b[90m━━━━━━━━━━━━━━━━━━━━━━━━━━━━━━━━━━━━━━\u001b[0m \u001b[32m591.5/591.5 kB\u001b[0m \u001b[31m37.7 MB/s\u001b[0m eta \u001b[36m0:00:00\u001b[0m\n",
            "\u001b[?25hCollecting typeguard<3.0.0,>=2.7\n",
            "  Downloading typeguard-2.13.3-py3-none-any.whl (17 kB)\n",
            "Requirement already satisfied: packaging in /usr/local/lib/python3.10/dist-packages (from tfa-nightly) (23.1)\n",
            "Installing collected packages: typeguard, tfa-nightly\n",
            "Successfully installed tfa-nightly-0.21.0.dev20230418145214 typeguard-2.13.3\n"
          ]
        }
      ],
      "source": [
        "pip install tfa-nightly\n"
      ]
    },
    {
      "cell_type": "code",
      "execution_count": null,
      "metadata": {
        "colab": {
          "base_uri": "https://localhost:8080/"
        },
        "id": "uVzy81Hr4guQ",
        "outputId": "f7bf892b-abbf-4fb5-b3bb-fcd5b59e1e1b"
      },
      "outputs": [
        {
          "output_type": "stream",
          "name": "stdout",
          "text": [
            "Looking in indexes: https://pypi.org/simple, https://us-python.pkg.dev/colab-wheels/public/simple/\n",
            "Collecting tensorflow_addons\n",
            "  Downloading tensorflow_addons-0.20.0-cp310-cp310-manylinux_2_17_x86_64.manylinux2014_x86_64.whl (591 kB)\n",
            "\u001b[2K     \u001b[90m━━━━━━━━━━━━━━━━━━━━━━━━━━━━━━━━━━━━━━\u001b[0m \u001b[32m591.0/591.0 kB\u001b[0m \u001b[31m31.8 MB/s\u001b[0m eta \u001b[36m0:00:00\u001b[0m\n",
            "\u001b[?25hRequirement already satisfied: typeguard<3.0.0,>=2.7 in /usr/local/lib/python3.10/dist-packages (from tensorflow_addons) (2.13.3)\n",
            "Requirement already satisfied: packaging in /usr/local/lib/python3.10/dist-packages (from tensorflow_addons) (23.1)\n",
            "Installing collected packages: tensorflow_addons\n",
            "Successfully installed tensorflow_addons-0.20.0\n"
          ]
        }
      ],
      "source": [
        "pip install tensorflow_addons\n"
      ]
    },
    {
      "cell_type": "code",
      "execution_count": null,
      "metadata": {
        "colab": {
          "base_uri": "https://localhost:8080/"
        },
        "id": "q6E0TRdF1nBX",
        "outputId": "201f41dd-4f17-416c-ec85-b42c5643e6de"
      },
      "outputs": [
        {
          "output_type": "stream",
          "name": "stderr",
          "text": [
            "/usr/local/lib/python3.10/dist-packages/tensorflow_addons/utils/tfa_eol_msg.py:23: UserWarning: \n",
            "\n",
            "TensorFlow Addons (TFA) has ended development and introduction of new features.\n",
            "TFA has entered a minimal maintenance and release mode until a planned end of life in May 2024.\n",
            "Please modify downstream libraries to take dependencies from other repositories in our TensorFlow community (e.g. Keras, Keras-CV, and Keras-NLP). \n",
            "\n",
            "For more information see: https://github.com/tensorflow/addons/issues/2807 \n",
            "\n",
            "  warnings.warn(\n",
            "/usr/local/lib/python3.10/dist-packages/tensorflow_addons/utils/ensure_tf_install.py:53: UserWarning: Tensorflow Addons supports using Python ops for all Tensorflow versions above or equal to 2.10.0 and strictly below 2.13.0 (nightly versions are not supported). \n",
            " The versions of TensorFlow you are currently using is 2.9.1 and is not supported. \n",
            "Some things might work, some things might not.\n",
            "If you were to encounter a bug, do not file an issue.\n",
            "If you want to make sure you're using a tested and supported configuration, either change the TensorFlow version or the TensorFlow Addons's version. \n",
            "You can find the compatibility matrix in TensorFlow Addon's readme:\n",
            "https://github.com/tensorflow/addons\n",
            "  warnings.warn(\n"
          ]
        }
      ],
      "source": [
        "import tensorflow_addons as tfa"
      ]
    },
    {
      "cell_type": "code",
      "execution_count": null,
      "metadata": {
        "id": "SwlKsQnLQD1K"
      },
      "outputs": [],
      "source": [
        "import tensorflow as tf\n",
        "from tensorflow import *"
      ]
    },
    {
      "cell_type": "code",
      "execution_count": null,
      "metadata": {
        "id": "LLyrYoVAQoRC"
      },
      "outputs": [],
      "source": [
        "def model(num_class):\n",
        "    inputs = Input(shape=(224,224,3))\n",
        "    base = EfficientNetB3(include_top = False,\n",
        "                         weights='imagenet')(inputs)\n",
        "    x = GlobalAveragePooling2D()(base)\n",
        "    x = BatchNormalization()(x)\n",
        "    x = Dropout(0.2)(x)\n",
        "    outputs = Dense(num_class , activation='softmax')(x)\n",
        "\n",
        "    model = Model(inputs = inputs , outputs = outputs)\n",
        "    model.compile(loss = 'categorical_crossentropy',\n",
        "                 optimizer = tf.optimizers.Adam(1e-4),\n",
        "                 metrics = ['accuracy',\n",
        "              tf.keras.metrics.Precision(),\n",
        "              tf.keras.metrics.Recall()\n",
        "               ,tfa.metrics.F1Score(num_classes=num_class, average='macro', threshold=0.5)\n",
        "              ])\n",
        "    return model"
      ]
    },
    {
      "cell_type": "code",
      "execution_count": null,
      "metadata": {
        "colab": {
          "base_uri": "https://localhost:8080/"
        },
        "id": "DHYgmbODQoTk",
        "outputId": "2b1ec467-78d7-40cd-fec3-0a8114b97efc"
      },
      "outputs": [
        {
          "output_type": "execute_result",
          "data": {
            "text/plain": [
              "10"
            ]
          },
          "metadata": {},
          "execution_count": 18
        }
      ],
      "source": [
        "num_class = len(class_counts )\n",
        "num_class"
      ]
    },
    {
      "cell_type": "code",
      "execution_count": null,
      "metadata": {
        "colab": {
          "base_uri": "https://localhost:8080/"
        },
        "id": "DDOrDQWzQoWC",
        "outputId": "e6e35a40-a7c1-4a27-f0bf-92c91d9f878b"
      },
      "outputs": [
        {
          "output_type": "stream",
          "name": "stdout",
          "text": [
            "Downloading data from https://storage.googleapis.com/keras-applications/efficientnetb3_notop.h5\n",
            "43941136/43941136 [==============================] - 3s 0us/step\n",
            "Model: \"model\"\n",
            "_________________________________________________________________\n",
            " Layer (type)                Output Shape              Param #   \n",
            "=================================================================\n",
            " input_1 (InputLayer)        [(None, 224, 224, 3)]     0         \n",
            "                                                                 \n",
            " efficientnetb3 (Functional)  (None, None, None, 1536)  10783535 \n",
            "                                                                 \n",
            " global_average_pooling2d (G  (None, 1536)             0         \n",
            " lobalAveragePooling2D)                                          \n",
            "                                                                 \n",
            " batch_normalization (BatchN  (None, 1536)             6144      \n",
            " ormalization)                                                   \n",
            "                                                                 \n",
            " dropout (Dropout)           (None, 1536)              0         \n",
            "                                                                 \n",
            " dense (Dense)               (None, 10)                15370     \n",
            "                                                                 \n",
            "=================================================================\n",
            "Total params: 10,805,049\n",
            "Trainable params: 10,714,674\n",
            "Non-trainable params: 90,375\n",
            "_________________________________________________________________\n"
          ]
        }
      ],
      "source": [
        "model = model(num_class)\n",
        "model.summary()"
      ]
    },
    {
      "cell_type": "code",
      "execution_count": null,
      "metadata": {
        "id": "Mip7Zm6fQoYU"
      },
      "outputs": [],
      "source": [
        "ck = ModelCheckpoint('/content/drive/MyDrive/Distracted Driver Detection/saved models/Testing.hdf5' , save_best_only=True,monitor='val_loss',mode='min')\n",
        "es = EarlyStopping(monitor = 'val_loss', patience = 5)"
      ]
    },
    {
      "cell_type": "code",
      "execution_count": null,
      "metadata": {
        "colab": {
          "base_uri": "https://localhost:8080/"
        },
        "id": "nxeO6_OfQoas",
        "outputId": "71cb324c-94ac-463d-ac84-f6981412e95d"
      },
      "outputs": [
        {
          "output_type": "stream",
          "name": "stdout",
          "text": [
            "[name: \"/device:CPU:0\"\n",
            "device_type: \"CPU\"\n",
            "memory_limit: 268435456\n",
            "locality {\n",
            "}\n",
            "incarnation: 13894812095380596411\n",
            "xla_global_id: -1\n",
            ",\n",
            " name: \"/device:GPU:0\"\n",
            "device_type: \"GPU\"\n",
            "memory_limit: 14395703296\n",
            "locality {\n",
            "  bus_id: 1\n",
            "  links {\n",
            "  }\n",
            "}\n",
            "incarnation: 5945848471256087206\n",
            "physical_device_desc: \"device: 0, name: Tesla T4, pci bus id: 0000:00:04.0, compute capability: 7.5\"\n",
            "xla_global_id: 416903419\n",
            "]\n"
          ]
        }
      ],
      "source": [
        "from tensorflow.python.client import device_lib\n",
        "print(device_lib.list_local_devices())"
      ]
    },
    {
      "cell_type": "code",
      "execution_count": null,
      "metadata": {
        "colab": {
          "base_uri": "https://localhost:8080/"
        },
        "id": "MsmF2iI3Qoc9",
        "outputId": "d90a1736-30ab-47af-8aa2-160e7afeb7ac"
      },
      "outputs": [
        {
          "output_type": "execute_result",
          "data": {
            "text/plain": [
              "[PhysicalDevice(name='/physical_device:GPU:0', device_type='GPU')]"
            ]
          },
          "metadata": {},
          "execution_count": 22
        }
      ],
      "source": [
        "tf.config.list_physical_devices('GPU')"
      ]
    },
    {
      "cell_type": "code",
      "execution_count": null,
      "metadata": {
        "colab": {
          "base_uri": "https://localhost:8080/"
        },
        "id": "NupbraoWQofo",
        "outputId": "2b5e9f81-80fe-44ad-cf52-72c2f6f2b59c"
      },
      "outputs": [
        {
          "output_type": "stream",
          "name": "stdout",
          "text": [
            "Num GPUs Available:  1\n"
          ]
        }
      ],
      "source": [
        "print(\"Num GPUs Available: \", len(tf.config.list_physical_devices('GPU')))"
      ]
    },
    {
      "cell_type": "code",
      "execution_count": null,
      "metadata": {
        "colab": {
          "base_uri": "https://localhost:8080/"
        },
        "id": "6Up2k-wYWVYa",
        "outputId": "87fe87d7-98fd-47e7-c551-792e6b500f4e"
      },
      "outputs": [
        {
          "output_type": "stream",
          "name": "stdout",
          "text": [
            "Looking in indexes: https://pypi.org/simple, https://us-python.pkg.dev/colab-wheels/public/simple/\n",
            "Collecting sklearn-json\n",
            "  Downloading sklearn_json-0.1.0-py3-none-any.whl (12 kB)\n",
            "Requirement already satisfied: scikit-learn>=0.21.3 in /usr/local/lib/python3.10/dist-packages (from sklearn-json) (1.2.2)\n",
            "Requirement already satisfied: threadpoolctl>=2.0.0 in /usr/local/lib/python3.10/dist-packages (from scikit-learn>=0.21.3->sklearn-json) (3.1.0)\n",
            "Requirement already satisfied: scipy>=1.3.2 in /usr/local/lib/python3.10/dist-packages (from scikit-learn>=0.21.3->sklearn-json) (1.10.1)\n",
            "Requirement already satisfied: joblib>=1.1.1 in /usr/local/lib/python3.10/dist-packages (from scikit-learn>=0.21.3->sklearn-json) (1.2.0)\n",
            "Requirement already satisfied: numpy>=1.17.3 in /usr/local/lib/python3.10/dist-packages (from scikit-learn>=0.21.3->sklearn-json) (1.22.4)\n",
            "Installing collected packages: sklearn-json\n",
            "Successfully installed sklearn-json-0.1.0\n"
          ]
        }
      ],
      "source": [
        "!pip install sklearn-json"
      ]
    },
    {
      "cell_type": "code",
      "execution_count": null,
      "metadata": {
        "id": "YztopPedbaTh"
      },
      "outputs": [],
      "source": [
        "wd = lambda: 1e-02 * schedule(step)"
      ]
    },
    {
      "cell_type": "code",
      "execution_count": null,
      "metadata": {
        "colab": {
          "base_uri": "https://localhost:8080/"
        },
        "id": "pidvijDQStMx",
        "outputId": "e7e469be-4925-4aab-b9ad-aa3364d337f1"
      },
      "outputs": [
        {
          "output_type": "stream",
          "name": "stdout",
          "text": [
            "2.9.1\n"
          ]
        }
      ],
      "source": [
        "print(tf. __version__)"
      ]
    },
    {
      "cell_type": "code",
      "execution_count": null,
      "metadata": {
        "colab": {
          "base_uri": "https://localhost:8080/"
        },
        "id": "cESBSAwo4Bwf",
        "outputId": "e7ccfe0e-933a-4a72-f209-4169e8671fbc"
      },
      "outputs": [
        {
          "name": "stdout",
          "output_type": "stream",
          "text": [
            "Epoch 1/50\n",
            "1027/1027 [==============================] - 5966s 6s/step - loss: 0.7221 - accuracy: 0.7714 - precision: 0.8649 - recall: 0.7237 - f1_score: 0.7522 - val_loss: 0.1611 - val_accuracy: 0.9495 - val_precision: 0.9590 - val_recall: 0.9417 - val_f1_score: 0.9450\n",
            "Epoch 2/50\n",
            "1027/1027 [==============================] - 492s 479ms/step - loss: 0.2079 - accuracy: 0.9352 - precision: 0.9466 - recall: 0.9267 - f1_score: 0.9307 - val_loss: 0.0934 - val_accuracy: 0.9703 - val_precision: 0.9759 - val_recall: 0.9678 - val_f1_score: 0.9706\n",
            "Epoch 3/50\n",
            "1027/1027 [==============================] - 490s 477ms/step - loss: 0.1362 - accuracy: 0.9570 - precision: 0.9638 - recall: 0.9525 - f1_score: 0.9546 - val_loss: 0.0705 - val_accuracy: 0.9785 - val_precision: 0.9819 - val_recall: 0.9761 - val_f1_score: 0.9764\n",
            "Epoch 4/50\n",
            "1027/1027 [==============================] - 489s 476ms/step - loss: 0.1075 - accuracy: 0.9644 - precision: 0.9701 - recall: 0.9610 - f1_score: 0.9624 - val_loss: 0.0821 - val_accuracy: 0.9739 - val_precision: 0.9760 - val_recall: 0.9712 - val_f1_score: 0.9731\n",
            "Epoch 5/50\n",
            "1027/1027 [==============================] - 490s 477ms/step - loss: 0.0859 - accuracy: 0.9731 - precision: 0.9763 - recall: 0.9698 - f1_score: 0.9704 - val_loss: 0.0433 - val_accuracy: 0.9866 - val_precision: 0.9885 - val_recall: 0.9849 - val_f1_score: 0.9866\n",
            "Epoch 6/50\n",
            "1027/1027 [==============================] - 486s 473ms/step - loss: 0.0823 - accuracy: 0.9736 - precision: 0.9780 - recall: 0.9716 - f1_score: 0.9725 - val_loss: 0.0466 - val_accuracy: 0.9856 - val_precision: 0.9870 - val_recall: 0.9837 - val_f1_score: 0.9858\n",
            "Epoch 7/50\n",
            "1027/1027 [==============================] - 486s 473ms/step - loss: 0.0686 - accuracy: 0.9780 - precision: 0.9810 - recall: 0.9763 - f1_score: 0.9779 - val_loss: 0.0489 - val_accuracy: 0.9856 - val_precision: 0.9868 - val_recall: 0.9844 - val_f1_score: 0.9841\n",
            "Epoch 8/50\n",
            " 346/1027 [=========>....................] - ETA: 4:35 - loss: 0.0612 - accuracy: 0.9812 - precision: 0.9846 - recall: 0.9792 - f1_score: 0.9803"
          ]
        }
      ],
      "source": [
        "#Run this cell, if you want to fit the model again else run the next cell\n",
        "history = model.fit(train_data ,\n",
        "                   epochs = 50,\n",
        "                   validation_data = val_data ,\n",
        "                   callbacks=[es,ck],\n",
        "                   verbose = 1)"
      ]
    },
    {
      "cell_type": "code",
      "execution_count": null,
      "metadata": {
        "colab": {
          "base_uri": "https://localhost:8080/"
        },
        "id": "OswNlsmA0hOH",
        "outputId": "f4d4a912-c473-4739-8b07-f45b1e8d1599"
      },
      "outputs": [
        {
          "name": "stdout",
          "output_type": "stream",
          "text": [
            "Epoch 1/20\n",
            "930/930 [==============================] - 4463s 5s/step - loss: 0.8087 - accuracy: 0.7387 - precision: 0.8398 - recall: 0.6853 - f1_score: 0.7460 - val_loss: 0.1690 - val_accuracy: 0.9430 - val_precision: 0.9570 - val_recall: 0.9349 - val_f1_score: 0.9461\n",
            "Epoch 2/20\n",
            "930/930 [==============================] - 490s 527ms/step - loss: 0.2225 - accuracy: 0.9323 - precision: 0.9461 - recall: 0.9209 - f1_score: 0.9336 - val_loss: 0.1057 - val_accuracy: 0.9685 - val_precision: 0.9766 - val_recall: 0.9642 - val_f1_score: 0.9706\n",
            "Epoch 3/20\n",
            "930/930 [==============================] - 464s 499ms/step - loss: 0.1506 - accuracy: 0.9540 - precision: 0.9607 - recall: 0.9471 - f1_score: 0.9548 - val_loss: 0.0852 - val_accuracy: 0.9761 - val_precision: 0.9792 - val_recall: 0.9734 - val_f1_score: 0.9774\n",
            "Epoch 4/20\n",
            "930/930 [==============================] - 440s 473ms/step - loss: 0.1227 - accuracy: 0.9629 - precision: 0.9689 - recall: 0.9587 - f1_score: 0.9638 - val_loss: 0.0571 - val_accuracy: 0.9841 - val_precision: 0.9854 - val_recall: 0.9831 - val_f1_score: 0.9849\n",
            "Epoch 5/20\n",
            "930/930 [==============================] - 438s 471ms/step - loss: 0.0962 - accuracy: 0.9703 - precision: 0.9748 - recall: 0.9675 - f1_score: 0.9713 - val_loss: 0.0617 - val_accuracy: 0.9798 - val_precision: 0.9814 - val_recall: 0.9785 - val_f1_score: 0.9809\n",
            "Epoch 6/20\n",
            "930/930 [==============================] - 446s 480ms/step - loss: 0.0758 - accuracy: 0.9764 - precision: 0.9790 - recall: 0.9741 - f1_score: 0.9771 - val_loss: 0.0514 - val_accuracy: 0.9849 - val_precision: 0.9865 - val_recall: 0.9847 - val_f1_score: 0.9856\n",
            "Epoch 7/20\n",
            "930/930 [==============================] - 448s 481ms/step - loss: 0.0782 - accuracy: 0.9754 - precision: 0.9783 - recall: 0.9735 - f1_score: 0.9759 - val_loss: 0.0381 - val_accuracy: 0.9892 - val_precision: 0.9911 - val_recall: 0.9882 - val_f1_score: 0.9897\n",
            "Epoch 8/20\n",
            "930/930 [==============================] - 488s 525ms/step - loss: 0.0709 - accuracy: 0.9772 - precision: 0.9803 - recall: 0.9749 - f1_score: 0.9777 - val_loss: 0.0430 - val_accuracy: 0.9876 - val_precision: 0.9903 - val_recall: 0.9868 - val_f1_score: 0.9889\n",
            "Epoch 9/20\n",
            "930/930 [==============================] - 452s 486ms/step - loss: 0.0537 - accuracy: 0.9829 - precision: 0.9852 - recall: 0.9812 - f1_score: 0.9836 - val_loss: 0.0655 - val_accuracy: 0.9831 - val_precision: 0.9841 - val_recall: 0.9814 - val_f1_score: 0.9838\n",
            "Epoch 10/20\n",
            "930/930 [==============================] - 452s 486ms/step - loss: 0.0528 - accuracy: 0.9827 - precision: 0.9848 - recall: 0.9811 - f1_score: 0.9826 - val_loss: 0.0362 - val_accuracy: 0.9882 - val_precision: 0.9895 - val_recall: 0.9874 - val_f1_score: 0.9889\n",
            "Epoch 11/20\n",
            "930/930 [==============================] - 448s 482ms/step - loss: 0.0610 - accuracy: 0.9806 - precision: 0.9831 - recall: 0.9792 - f1_score: 0.9812 - val_loss: 0.0396 - val_accuracy: 0.9895 - val_precision: 0.9908 - val_recall: 0.9876 - val_f1_score: 0.9894\n",
            "Epoch 12/20\n",
            "930/930 [==============================] - 446s 479ms/step - loss: 0.0423 - accuracy: 0.9871 - precision: 0.9885 - recall: 0.9861 - f1_score: 0.9875 - val_loss: 0.0266 - val_accuracy: 0.9911 - val_precision: 0.9914 - val_recall: 0.9906 - val_f1_score: 0.9913\n",
            "Epoch 13/20\n",
            "930/930 [==============================] - 452s 486ms/step - loss: 0.0412 - accuracy: 0.9870 - precision: 0.9887 - recall: 0.9862 - f1_score: 0.9873 - val_loss: 0.0276 - val_accuracy: 0.9903 - val_precision: 0.9914 - val_recall: 0.9898 - val_f1_score: 0.9903\n",
            "Epoch 14/20\n",
            "930/930 [==============================] - 446s 480ms/step - loss: 0.0366 - accuracy: 0.9885 - precision: 0.9898 - recall: 0.9876 - f1_score: 0.9886 - val_loss: 0.0287 - val_accuracy: 0.9900 - val_precision: 0.9922 - val_recall: 0.9895 - val_f1_score: 0.9912\n",
            "Epoch 15/20\n",
            "930/930 [==============================] - 437s 469ms/step - loss: 0.0415 - accuracy: 0.9862 - precision: 0.9879 - recall: 0.9849 - f1_score: 0.9867 - val_loss: 0.0305 - val_accuracy: 0.9919 - val_precision: 0.9927 - val_recall: 0.9911 - val_f1_score: 0.9916\n",
            "Epoch 16/20\n",
            "930/930 [==============================] - 438s 470ms/step - loss: 0.0408 - accuracy: 0.9871 - precision: 0.9885 - recall: 0.9862 - f1_score: 0.9868 - val_loss: 0.0354 - val_accuracy: 0.9900 - val_precision: 0.9906 - val_recall: 0.9884 - val_f1_score: 0.9890\n",
            "Epoch 17/20\n",
            "930/930 [==============================] - 445s 478ms/step - loss: 0.0333 - accuracy: 0.9901 - precision: 0.9909 - recall: 0.9889 - f1_score: 0.9900 - val_loss: 0.0472 - val_accuracy: 0.9892 - val_precision: 0.9906 - val_recall: 0.9890 - val_f1_score: 0.9899\n"
          ]
        }
      ],
      "source": [
        "history = model.fit(train_data ,\n",
        "                   epochs = 20,\n",
        "                   validation_data = val_data ,\n",
        "                   callbacks=[es,ck],\n",
        "                   verbose = 1)"
      ]
    },
    {
      "cell_type": "code",
      "execution_count": null,
      "metadata": {
        "colab": {
          "base_uri": "https://localhost:8080/"
        },
        "id": "8NGDD7Sl5DHN",
        "outputId": "5c3d6650-58ed-490e-de55-5f9256bcedd2"
      },
      "outputs": [
        {
          "name": "stdout",
          "output_type": "stream",
          "text": [
            "Epoch 1/20\n",
            "930/930 [==============================] - 3765s 4s/step - loss: 0.7981 - accuracy: 0.7422 - precision: 0.8396 - recall: 0.6910 - f1_score: 0.7504 - val_loss: 0.1713 - val_accuracy: 0.9438 - val_precision: 0.9551 - val_recall: 0.9338 - val_f1_score: 0.9445\n",
            "Epoch 2/20\n",
            "930/930 [==============================] - 454s 488ms/step - loss: 0.2293 - accuracy: 0.9296 - precision: 0.9424 - recall: 0.9187 - f1_score: 0.9312 - val_loss: 0.1008 - val_accuracy: 0.9653 - val_precision: 0.9704 - val_recall: 0.9618 - val_f1_score: 0.9671\n",
            "Epoch 3/20\n",
            "930/930 [==============================] - 449s 483ms/step - loss: 0.1489 - accuracy: 0.9537 - precision: 0.9610 - recall: 0.9483 - f1_score: 0.9553 - val_loss: 0.0764 - val_accuracy: 0.9752 - val_precision: 0.9805 - val_recall: 0.9739 - val_f1_score: 0.9780\n",
            "Epoch 4/20\n",
            "930/930 [==============================] - 446s 480ms/step - loss: 0.1188 - accuracy: 0.9643 - precision: 0.9698 - recall: 0.9595 - f1_score: 0.9653 - val_loss: 0.0660 - val_accuracy: 0.9822 - val_precision: 0.9841 - val_recall: 0.9806 - val_f1_score: 0.9827\n",
            "Epoch 5/20\n",
            "930/930 [==============================] - 443s 476ms/step - loss: 0.1014 - accuracy: 0.9690 - precision: 0.9726 - recall: 0.9655 - f1_score: 0.9691 - val_loss: 0.0657 - val_accuracy: 0.9798 - val_precision: 0.9819 - val_recall: 0.9763 - val_f1_score: 0.9800\n",
            "Epoch 6/20\n",
            "930/930 [==============================] - 444s 477ms/step - loss: 0.0855 - accuracy: 0.9745 - precision: 0.9776 - recall: 0.9716 - f1_score: 0.9746 - val_loss: 0.0579 - val_accuracy: 0.9839 - val_precision: 0.9846 - val_recall: 0.9820 - val_f1_score: 0.9835\n",
            "Epoch 7/20\n",
            "930/930 [==============================] - 441s 475ms/step - loss: 0.0774 - accuracy: 0.9745 - precision: 0.9787 - recall: 0.9718 - f1_score: 0.9754 - val_loss: 0.0613 - val_accuracy: 0.9817 - val_precision: 0.9835 - val_recall: 0.9796 - val_f1_score: 0.9822\n",
            "Epoch 8/20\n",
            "930/930 [==============================] - 444s 477ms/step - loss: 0.0673 - accuracy: 0.9788 - precision: 0.9818 - recall: 0.9767 - f1_score: 0.9796 - val_loss: 0.0515 - val_accuracy: 0.9839 - val_precision: 0.9868 - val_recall: 0.9828 - val_f1_score: 0.9851\n",
            "Epoch 9/20\n",
            "930/930 [==============================] - 445s 479ms/step - loss: 0.0556 - accuracy: 0.9818 - precision: 0.9840 - recall: 0.9802 - f1_score: 0.9825 - val_loss: 0.0320 - val_accuracy: 0.9895 - val_precision: 0.9908 - val_recall: 0.9892 - val_f1_score: 0.9898\n",
            "Epoch 10/20\n",
            "930/930 [==============================] - 442s 475ms/step - loss: 0.0552 - accuracy: 0.9820 - precision: 0.9839 - recall: 0.9803 - f1_score: 0.9820 - val_loss: 0.0384 - val_accuracy: 0.9874 - val_precision: 0.9892 - val_recall: 0.9863 - val_f1_score: 0.9880\n",
            "Epoch 11/20\n",
            "930/930 [==============================] - 439s 472ms/step - loss: 0.0560 - accuracy: 0.9826 - precision: 0.9848 - recall: 0.9806 - f1_score: 0.9827 - val_loss: 0.0430 - val_accuracy: 0.9868 - val_precision: 0.9879 - val_recall: 0.9855 - val_f1_score: 0.9869\n",
            "Epoch 12/20\n",
            "930/930 [==============================] - 440s 473ms/step - loss: 0.0503 - accuracy: 0.9844 - precision: 0.9861 - recall: 0.9834 - f1_score: 0.9849 - val_loss: 0.0426 - val_accuracy: 0.9868 - val_precision: 0.9892 - val_recall: 0.9860 - val_f1_score: 0.9879\n",
            "Epoch 13/20\n",
            "930/930 [==============================] - 441s 474ms/step - loss: 0.0505 - accuracy: 0.9846 - precision: 0.9865 - recall: 0.9825 - f1_score: 0.9848 - val_loss: 0.0350 - val_accuracy: 0.9892 - val_precision: 0.9898 - val_recall: 0.9884 - val_f1_score: 0.9886\n",
            "Epoch 14/20\n",
            "930/930 [==============================] - 440s 473ms/step - loss: 0.0393 - accuracy: 0.9872 - precision: 0.9886 - recall: 0.9866 - f1_score: 0.9877 - val_loss: 0.0346 - val_accuracy: 0.9914 - val_precision: 0.9919 - val_recall: 0.9909 - val_f1_score: 0.9918\n"
          ]
        }
      ],
      "source": [
        "history = model.fit(train_data ,\n",
        "                   epochs = 20,\n",
        "                   validation_data = val_data ,\n",
        "                   callbacks=[es,ck],\n",
        "                   verbose = 1)"
      ]
    },
    {
      "cell_type": "code",
      "execution_count": null,
      "metadata": {
        "id": "zrfGByru0tqy"
      },
      "outputs": [],
      "source": [
        "model.save('/content/drive/MyDrive/Distracted Driver Detection/saved models/My_final1_saved.hdf5')"
      ]
    },
    {
      "cell_type": "code",
      "execution_count": null,
      "metadata": {
        "id": "N2RP7c4TWoT0"
      },
      "outputs": [],
      "source": [
        "from tensorflow.keras.models import load_model\n",
        "\n",
        "model = load_model('/content/drive/MyDrive/Distracted Driver Detection/saved models/My_final1_saved.hdf5')"
      ]
    },
    {
      "cell_type": "code",
      "execution_count": null,
      "metadata": {
        "colab": {
          "base_uri": "https://localhost:8080/"
        },
        "id": "NG8k0XgTQ42H",
        "outputId": "96f35ea6-3950-4582-daa1-faed698c7472"
      },
      "outputs": [
        {
          "output_type": "stream",
          "name": "stdout",
          "text": [
            "Model: \"model\"\n",
            "_________________________________________________________________\n",
            " Layer (type)                Output Shape              Param #   \n",
            "=================================================================\n",
            " input_1 (InputLayer)        [(None, 224, 224, 3)]     0         \n",
            "                                                                 \n",
            " efficientnetb3 (Functional)  (None, None, None, 1536)  10783535 \n",
            "                                                                 \n",
            " global_average_pooling2d (G  (None, 1536)             0         \n",
            " lobalAveragePooling2D)                                          \n",
            "                                                                 \n",
            " batch_normalization (BatchN  (None, 1536)             6144      \n",
            " ormalization)                                                   \n",
            "                                                                 \n",
            " dropout (Dropout)           (None, 1536)              0         \n",
            "                                                                 \n",
            " dense (Dense)               (None, 10)                15370     \n",
            "                                                                 \n",
            "=================================================================\n",
            "Total params: 10,805,049\n",
            "Trainable params: 10,714,674\n",
            "Non-trainable params: 90,375\n",
            "_________________________________________________________________\n"
          ]
        }
      ],
      "source": [
        "model.summary()"
      ]
    },
    {
      "cell_type": "code",
      "execution_count": null,
      "metadata": {
        "colab": {
          "base_uri": "https://localhost:8080/"
        },
        "id": "_p-Eqm-AQolW",
        "outputId": "246240e1-4e8d-4ac0-f356-be678feb1790"
      },
      "outputs": [
        {
          "output_type": "stream",
          "name": "stdout",
          "text": [
            "Found 17474 images belonging to 1 classes.\n"
          ]
        }
      ],
      "source": [
        "test_dir = os.path.join(dir , '/content/drive/MyDrive/Distracted Driver Detection/')\n",
        "test_data = test_gen.flow_from_directory(test_dir ,\n",
        "                                        target_size=IMG_SIZE,\n",
        "                                        batch_size=BATCH_SIZE,\n",
        "                                        classes = ['test'],\n",
        "                                        shuffle = False)"
      ]
    },
    {
      "cell_type": "code",
      "execution_count": null,
      "metadata": {
        "colab": {
          "base_uri": "https://localhost:8080/"
        },
        "id": "I2r1mtErQ-pc",
        "outputId": "157f714f-a986-4c65-fcc2-046254449894"
      },
      "outputs": [
        {
          "output_type": "stream",
          "name": "stdout",
          "text": [
            "1094/1094 [==============================] - 427s 381ms/step\n"
          ]
        },
        {
          "output_type": "execute_result",
          "data": {
            "text/plain": [
              "array([[0.12922464, 0.04809687, 0.16821451, ..., 0.07588436, 0.08766181,\n",
              "        0.09046853],\n",
              "       [0.09852338, 0.14319766, 0.06870341, ..., 0.10515908, 0.08058519,\n",
              "        0.08175407],\n",
              "       [0.11433283, 0.10485308, 0.08336657, ..., 0.10948484, 0.10247426,\n",
              "        0.07043362],\n",
              "       ...,\n",
              "       [0.12096602, 0.13141392, 0.06149649, ..., 0.09974995, 0.07861328,\n",
              "        0.08387674],\n",
              "       [0.06447574, 0.21657898, 0.06775462, ..., 0.06547812, 0.07767865,\n",
              "        0.10884213],\n",
              "       [0.0990072 , 0.16313131, 0.09491418, ..., 0.11599873, 0.08796498,\n",
              "        0.08920541]], dtype=float32)"
            ]
          },
          "metadata": {},
          "execution_count": 30
        }
      ],
      "source": [
        "preds = model.predict(test_data)\n",
        "preds"
      ]
    },
    {
      "cell_type": "code",
      "execution_count": null,
      "metadata": {
        "id": "dBBmpMOKQ-sE",
        "colab": {
          "base_uri": "https://localhost:8080/"
        },
        "outputId": "e48f875b-eeb6-4a9c-8faf-df9aadc6222e"
      },
      "outputs": [
        {
          "output_type": "execute_result",
          "data": {
            "text/plain": [
              "17493"
            ]
          },
          "metadata": {},
          "execution_count": 31
        }
      ],
      "source": [
        "len(preds)"
      ]
    },
    {
      "cell_type": "code",
      "execution_count": null,
      "metadata": {
        "id": "SbSJleqdQ-uX"
      },
      "outputs": [],
      "source": [
        "test_imgs = os.path.join(dir , '/content/drive/MyDrive/Distracted Driver Detection/test')\n",
        "test_ids = sorted(os.listdir(test_imgs))\n",
        "pred_df = pd.DataFrame(columns=['img','c0','c1','c2','c3','c4','c5','c6','c7','c8','c9'])\n",
        "\n",
        "\n",
        "for i in range(1, len(preds)):\n",
        "    pred_df.loc[ :,'img'] = test_ids[:]\n",
        "    pred_df.loc[ : ,'c0':'c9'] = preds[:]\n"
      ]
    },
    {
      "cell_type": "code",
      "execution_count": null,
      "metadata": {
        "id": "XguihVu9GAS1",
        "colab": {
          "base_uri": "https://localhost:8080/"
        },
        "outputId": "0352800b-28b7-4856-da1c-3c47dea23357"
      },
      "outputs": [
        {
          "output_type": "stream",
          "name": "stdout",
          "text": [
            "17493\n"
          ]
        }
      ],
      "source": [
        "print(len(test_ids))"
      ]
    },
    {
      "cell_type": "code",
      "execution_count": null,
      "metadata": {
        "colab": {
          "base_uri": "https://localhost:8080/",
          "height": 423
        },
        "id": "fMysnV4dPzB1",
        "outputId": "5bd70d6f-5998-4e45-bf71-b8e35d52ba45"
      },
      "outputs": [
        {
          "output_type": "execute_result",
          "data": {
            "text/plain": [
              "                  img        c0        c1        c2        c3        c4  \\\n",
              "0           img_1.jpg  0.129225  0.048097  0.168215  0.180176  0.066765   \n",
              "1          img_10.jpg  0.098523  0.143198  0.068703  0.113695  0.129248   \n",
              "2         img_100.jpg  0.114333  0.104853  0.083367  0.111775  0.088367   \n",
              "3        img_1000.jpg  0.073707  0.121464  0.105724   0.06253  0.148881   \n",
              "4      img_100000.jpg  0.100578  0.144033  0.088345   0.08288  0.125782   \n",
              "...               ...       ...       ...       ...       ...       ...   \n",
              "17488   img_28160.jpg  0.114717  0.139613  0.053936  0.096744  0.102734   \n",
              "17489   img_28161.jpg  0.113608  0.162143  0.051405  0.085992  0.147707   \n",
              "17490   img_28162.jpg  0.120966  0.131414  0.061496  0.106534  0.084918   \n",
              "17491   img_28163.jpg  0.064476  0.216579  0.067755  0.082079   0.08902   \n",
              "17492   img_28164.jpg  0.099007  0.163131  0.094914  0.094472  0.100547   \n",
              "\n",
              "             c5        c6        c7        c8        c9  \n",
              "0      0.028178   0.12533  0.075884  0.087662  0.090469  \n",
              "1      0.099021  0.080113  0.105159  0.080585  0.081754  \n",
              "2      0.109023   0.10589  0.109485  0.102474  0.070434  \n",
              "3      0.058229  0.169121  0.077058  0.101898  0.081389  \n",
              "4      0.083413  0.126991  0.095524  0.063504   0.08895  \n",
              "...         ...       ...       ...       ...       ...  \n",
              "17488  0.090951  0.095488  0.142974  0.086591  0.076251  \n",
              "17489  0.104788  0.082724  0.079455   0.07938  0.092798  \n",
              "17490  0.110915  0.121517   0.09975  0.078613  0.083877  \n",
              "17491  0.104047  0.124046  0.065478  0.077679  0.108842  \n",
              "17492  0.075667  0.079092  0.115999  0.087965  0.089205  \n",
              "\n",
              "[17493 rows x 11 columns]"
            ],
            "text/html": [
              "\n",
              "  <div id=\"df-a394c7f1-4392-41e2-911b-efd96995ead8\">\n",
              "    <div class=\"colab-df-container\">\n",
              "      <div>\n",
              "<style scoped>\n",
              "    .dataframe tbody tr th:only-of-type {\n",
              "        vertical-align: middle;\n",
              "    }\n",
              "\n",
              "    .dataframe tbody tr th {\n",
              "        vertical-align: top;\n",
              "    }\n",
              "\n",
              "    .dataframe thead th {\n",
              "        text-align: right;\n",
              "    }\n",
              "</style>\n",
              "<table border=\"1\" class=\"dataframe\">\n",
              "  <thead>\n",
              "    <tr style=\"text-align: right;\">\n",
              "      <th></th>\n",
              "      <th>img</th>\n",
              "      <th>c0</th>\n",
              "      <th>c1</th>\n",
              "      <th>c2</th>\n",
              "      <th>c3</th>\n",
              "      <th>c4</th>\n",
              "      <th>c5</th>\n",
              "      <th>c6</th>\n",
              "      <th>c7</th>\n",
              "      <th>c8</th>\n",
              "      <th>c9</th>\n",
              "    </tr>\n",
              "  </thead>\n",
              "  <tbody>\n",
              "    <tr>\n",
              "      <th>0</th>\n",
              "      <td>img_1.jpg</td>\n",
              "      <td>0.129225</td>\n",
              "      <td>0.048097</td>\n",
              "      <td>0.168215</td>\n",
              "      <td>0.180176</td>\n",
              "      <td>0.066765</td>\n",
              "      <td>0.028178</td>\n",
              "      <td>0.12533</td>\n",
              "      <td>0.075884</td>\n",
              "      <td>0.087662</td>\n",
              "      <td>0.090469</td>\n",
              "    </tr>\n",
              "    <tr>\n",
              "      <th>1</th>\n",
              "      <td>img_10.jpg</td>\n",
              "      <td>0.098523</td>\n",
              "      <td>0.143198</td>\n",
              "      <td>0.068703</td>\n",
              "      <td>0.113695</td>\n",
              "      <td>0.129248</td>\n",
              "      <td>0.099021</td>\n",
              "      <td>0.080113</td>\n",
              "      <td>0.105159</td>\n",
              "      <td>0.080585</td>\n",
              "      <td>0.081754</td>\n",
              "    </tr>\n",
              "    <tr>\n",
              "      <th>2</th>\n",
              "      <td>img_100.jpg</td>\n",
              "      <td>0.114333</td>\n",
              "      <td>0.104853</td>\n",
              "      <td>0.083367</td>\n",
              "      <td>0.111775</td>\n",
              "      <td>0.088367</td>\n",
              "      <td>0.109023</td>\n",
              "      <td>0.10589</td>\n",
              "      <td>0.109485</td>\n",
              "      <td>0.102474</td>\n",
              "      <td>0.070434</td>\n",
              "    </tr>\n",
              "    <tr>\n",
              "      <th>3</th>\n",
              "      <td>img_1000.jpg</td>\n",
              "      <td>0.073707</td>\n",
              "      <td>0.121464</td>\n",
              "      <td>0.105724</td>\n",
              "      <td>0.06253</td>\n",
              "      <td>0.148881</td>\n",
              "      <td>0.058229</td>\n",
              "      <td>0.169121</td>\n",
              "      <td>0.077058</td>\n",
              "      <td>0.101898</td>\n",
              "      <td>0.081389</td>\n",
              "    </tr>\n",
              "    <tr>\n",
              "      <th>4</th>\n",
              "      <td>img_100000.jpg</td>\n",
              "      <td>0.100578</td>\n",
              "      <td>0.144033</td>\n",
              "      <td>0.088345</td>\n",
              "      <td>0.08288</td>\n",
              "      <td>0.125782</td>\n",
              "      <td>0.083413</td>\n",
              "      <td>0.126991</td>\n",
              "      <td>0.095524</td>\n",
              "      <td>0.063504</td>\n",
              "      <td>0.08895</td>\n",
              "    </tr>\n",
              "    <tr>\n",
              "      <th>...</th>\n",
              "      <td>...</td>\n",
              "      <td>...</td>\n",
              "      <td>...</td>\n",
              "      <td>...</td>\n",
              "      <td>...</td>\n",
              "      <td>...</td>\n",
              "      <td>...</td>\n",
              "      <td>...</td>\n",
              "      <td>...</td>\n",
              "      <td>...</td>\n",
              "      <td>...</td>\n",
              "    </tr>\n",
              "    <tr>\n",
              "      <th>17488</th>\n",
              "      <td>img_28160.jpg</td>\n",
              "      <td>0.114717</td>\n",
              "      <td>0.139613</td>\n",
              "      <td>0.053936</td>\n",
              "      <td>0.096744</td>\n",
              "      <td>0.102734</td>\n",
              "      <td>0.090951</td>\n",
              "      <td>0.095488</td>\n",
              "      <td>0.142974</td>\n",
              "      <td>0.086591</td>\n",
              "      <td>0.076251</td>\n",
              "    </tr>\n",
              "    <tr>\n",
              "      <th>17489</th>\n",
              "      <td>img_28161.jpg</td>\n",
              "      <td>0.113608</td>\n",
              "      <td>0.162143</td>\n",
              "      <td>0.051405</td>\n",
              "      <td>0.085992</td>\n",
              "      <td>0.147707</td>\n",
              "      <td>0.104788</td>\n",
              "      <td>0.082724</td>\n",
              "      <td>0.079455</td>\n",
              "      <td>0.07938</td>\n",
              "      <td>0.092798</td>\n",
              "    </tr>\n",
              "    <tr>\n",
              "      <th>17490</th>\n",
              "      <td>img_28162.jpg</td>\n",
              "      <td>0.120966</td>\n",
              "      <td>0.131414</td>\n",
              "      <td>0.061496</td>\n",
              "      <td>0.106534</td>\n",
              "      <td>0.084918</td>\n",
              "      <td>0.110915</td>\n",
              "      <td>0.121517</td>\n",
              "      <td>0.09975</td>\n",
              "      <td>0.078613</td>\n",
              "      <td>0.083877</td>\n",
              "    </tr>\n",
              "    <tr>\n",
              "      <th>17491</th>\n",
              "      <td>img_28163.jpg</td>\n",
              "      <td>0.064476</td>\n",
              "      <td>0.216579</td>\n",
              "      <td>0.067755</td>\n",
              "      <td>0.082079</td>\n",
              "      <td>0.08902</td>\n",
              "      <td>0.104047</td>\n",
              "      <td>0.124046</td>\n",
              "      <td>0.065478</td>\n",
              "      <td>0.077679</td>\n",
              "      <td>0.108842</td>\n",
              "    </tr>\n",
              "    <tr>\n",
              "      <th>17492</th>\n",
              "      <td>img_28164.jpg</td>\n",
              "      <td>0.099007</td>\n",
              "      <td>0.163131</td>\n",
              "      <td>0.094914</td>\n",
              "      <td>0.094472</td>\n",
              "      <td>0.100547</td>\n",
              "      <td>0.075667</td>\n",
              "      <td>0.079092</td>\n",
              "      <td>0.115999</td>\n",
              "      <td>0.087965</td>\n",
              "      <td>0.089205</td>\n",
              "    </tr>\n",
              "  </tbody>\n",
              "</table>\n",
              "<p>17493 rows × 11 columns</p>\n",
              "</div>\n",
              "      <button class=\"colab-df-convert\" onclick=\"convertToInteractive('df-a394c7f1-4392-41e2-911b-efd96995ead8')\"\n",
              "              title=\"Convert this dataframe to an interactive table.\"\n",
              "              style=\"display:none;\">\n",
              "        \n",
              "  <svg xmlns=\"http://www.w3.org/2000/svg\" height=\"24px\"viewBox=\"0 0 24 24\"\n",
              "       width=\"24px\">\n",
              "    <path d=\"M0 0h24v24H0V0z\" fill=\"none\"/>\n",
              "    <path d=\"M18.56 5.44l.94 2.06.94-2.06 2.06-.94-2.06-.94-.94-2.06-.94 2.06-2.06.94zm-11 1L8.5 8.5l.94-2.06 2.06-.94-2.06-.94L8.5 2.5l-.94 2.06-2.06.94zm10 10l.94 2.06.94-2.06 2.06-.94-2.06-.94-.94-2.06-.94 2.06-2.06.94z\"/><path d=\"M17.41 7.96l-1.37-1.37c-.4-.4-.92-.59-1.43-.59-.52 0-1.04.2-1.43.59L10.3 9.45l-7.72 7.72c-.78.78-.78 2.05 0 2.83L4 21.41c.39.39.9.59 1.41.59.51 0 1.02-.2 1.41-.59l7.78-7.78 2.81-2.81c.8-.78.8-2.07 0-2.86zM5.41 20L4 18.59l7.72-7.72 1.47 1.35L5.41 20z\"/>\n",
              "  </svg>\n",
              "      </button>\n",
              "      \n",
              "  <style>\n",
              "    .colab-df-container {\n",
              "      display:flex;\n",
              "      flex-wrap:wrap;\n",
              "      gap: 12px;\n",
              "    }\n",
              "\n",
              "    .colab-df-convert {\n",
              "      background-color: #E8F0FE;\n",
              "      border: none;\n",
              "      border-radius: 50%;\n",
              "      cursor: pointer;\n",
              "      display: none;\n",
              "      fill: #1967D2;\n",
              "      height: 32px;\n",
              "      padding: 0 0 0 0;\n",
              "      width: 32px;\n",
              "    }\n",
              "\n",
              "    .colab-df-convert:hover {\n",
              "      background-color: #E2EBFA;\n",
              "      box-shadow: 0px 1px 2px rgba(60, 64, 67, 0.3), 0px 1px 3px 1px rgba(60, 64, 67, 0.15);\n",
              "      fill: #174EA6;\n",
              "    }\n",
              "\n",
              "    [theme=dark] .colab-df-convert {\n",
              "      background-color: #3B4455;\n",
              "      fill: #D2E3FC;\n",
              "    }\n",
              "\n",
              "    [theme=dark] .colab-df-convert:hover {\n",
              "      background-color: #434B5C;\n",
              "      box-shadow: 0px 1px 3px 1px rgba(0, 0, 0, 0.15);\n",
              "      filter: drop-shadow(0px 1px 2px rgba(0, 0, 0, 0.3));\n",
              "      fill: #FFFFFF;\n",
              "    }\n",
              "  </style>\n",
              "\n",
              "      <script>\n",
              "        const buttonEl =\n",
              "          document.querySelector('#df-a394c7f1-4392-41e2-911b-efd96995ead8 button.colab-df-convert');\n",
              "        buttonEl.style.display =\n",
              "          google.colab.kernel.accessAllowed ? 'block' : 'none';\n",
              "\n",
              "        async function convertToInteractive(key) {\n",
              "          const element = document.querySelector('#df-a394c7f1-4392-41e2-911b-efd96995ead8');\n",
              "          const dataTable =\n",
              "            await google.colab.kernel.invokeFunction('convertToInteractive',\n",
              "                                                     [key], {});\n",
              "          if (!dataTable) return;\n",
              "\n",
              "          const docLinkHtml = 'Like what you see? Visit the ' +\n",
              "            '<a target=\"_blank\" href=https://colab.research.google.com/notebooks/data_table.ipynb>data table notebook</a>'\n",
              "            + ' to learn more about interactive tables.';\n",
              "          element.innerHTML = '';\n",
              "          dataTable['output_type'] = 'display_data';\n",
              "          await google.colab.output.renderOutput(dataTable, element);\n",
              "          const docLink = document.createElement('div');\n",
              "          docLink.innerHTML = docLinkHtml;\n",
              "          element.appendChild(docLink);\n",
              "        }\n",
              "      </script>\n",
              "    </div>\n",
              "  </div>\n",
              "  "
            ]
          },
          "metadata": {},
          "execution_count": 34
        }
      ],
      "source": [
        "pred_df"
      ]
    },
    {
      "cell_type": "code",
      "execution_count": null,
      "metadata": {
        "id": "MbmbV96MeYAd",
        "colab": {
          "base_uri": "https://localhost:8080/"
        },
        "outputId": "1f978830-4c30-4923-cea6-02651b6ae8e6"
      },
      "outputs": [
        {
          "output_type": "execute_result",
          "data": {
            "text/plain": [
              "array([3, 1, 0, ..., 1, 1, 1])"
            ]
          },
          "metadata": {},
          "execution_count": 37
        }
      ],
      "source": [
        "pred_df = np.argmax(preds,axis=1)\n",
        "pred_df"
      ]
    },
    {
      "cell_type": "code",
      "execution_count": null,
      "metadata": {
        "id": "k__RSi49OdtG"
      },
      "outputs": [],
      "source": [
        "\n",
        "from keras import backend as K\n",
        "\n",
        "def recall_m(y_true, y_pred):\n",
        "    true_positives = K.sum(K.round(K.clip(y_true * y_pred, 0, 1)))\n",
        "    possible_positives = K.sum(K.round(K.clip(y_true, 0, 1)))\n",
        "    recall = true_positives / (possible_positives + K.epsilon())\n",
        "    return recall\n",
        "\n",
        "def precision_m(y_true, y_pred):\n",
        "    true_positives = K.sum(K.round(K.clip(y_true * y_pred, 0, 1)))\n",
        "    predicted_positives = K.sum(K.round(K.clip(y_pred, 0, 1)))\n",
        "    precision = true_positives / (predicted_positives + K.epsilon())\n",
        "    return precision\n",
        "\n",
        "def f1_m(y_true, y_pred):\n",
        "    precision = precision_m(y_true, y_pred)\n",
        "    recall = recall_m(y_true, y_pred)\n",
        "    return 2*((precision*recall)/(precision+recall+K.epsilon()))\n"
      ]
    },
    {
      "cell_type": "code",
      "execution_count": null,
      "metadata": {
        "id": "zo8lFI9hFstn"
      },
      "outputs": [],
      "source": [
        "print(len(test_data))\n",
        "print(len(preds))"
      ]
    },
    {
      "cell_type": "code",
      "execution_count": null,
      "metadata": {
        "id": "_Ct9RXJu-ex-"
      },
      "outputs": [],
      "source": [
        "from tensorflow.keras.models import load_model\n",
        "\n",
        "model = load_model('/content/drive/MyDrive/Distracted Driver Detection/saved models/My_final1.hdf5')\n",
        "\n",
        "import cv2 as cv\n",
        "import numpy as np\n",
        "from google.colab.patches import cv2_imshow\n",
        "img = cv.imread(os.path.join(dir , '/content/drive/MyDrive/Distracted Driver Detection/test/img_12.jpg'))\n",
        "img_resize = cv.resize(img,(254,254))\n",
        "cv2_imshow(img_resize)\n"
      ]
    },
    {
      "cell_type": "code",
      "execution_count": null,
      "metadata": {
        "id": "CXDF8FL2-e7L"
      },
      "outputs": [],
      "source": [
        "test_imgs = img ##os.path.join(dir , '/content/drive/MyDrive/Distracted Driver Detection/test')\n",
        "#test_ids = sorted(os.listdir(test_imgs))\n",
        "pred_df = pd.DataFrame(columns=['img','c0','c1','c2','c3','c4','c5','c6','c7','c8','c9'])\n",
        "\n",
        "pred_df.loc[ 6,'img'] = test_ids[6]\n",
        "pred_df.loc[ 6,'c0':'c9'] = preds[6]"
      ]
    },
    {
      "cell_type": "code",
      "execution_count": null,
      "metadata": {
        "colab": {
          "base_uri": "https://localhost:8080/",
          "height": 80
        },
        "id": "_j2iY0tz-5V6",
        "outputId": "ad80ba9e-f9cd-489c-e7f5-ca8b701416a6"
      },
      "outputs": [
        {
          "data": {
            "text/html": [
              "\n",
              "  <div id=\"df-f26af34a-c989-4b74-9d98-59eab43e5c02\">\n",
              "    <div class=\"colab-df-container\">\n",
              "      <div>\n",
              "<style scoped>\n",
              "    .dataframe tbody tr th:only-of-type {\n",
              "        vertical-align: middle;\n",
              "    }\n",
              "\n",
              "    .dataframe tbody tr th {\n",
              "        vertical-align: top;\n",
              "    }\n",
              "\n",
              "    .dataframe thead th {\n",
              "        text-align: right;\n",
              "    }\n",
              "</style>\n",
              "<table border=\"1\" class=\"dataframe\">\n",
              "  <thead>\n",
              "    <tr style=\"text-align: right;\">\n",
              "      <th></th>\n",
              "      <th>img</th>\n",
              "      <th>c0</th>\n",
              "      <th>c1</th>\n",
              "      <th>c2</th>\n",
              "      <th>c3</th>\n",
              "      <th>c4</th>\n",
              "      <th>c5</th>\n",
              "      <th>c6</th>\n",
              "      <th>c7</th>\n",
              "      <th>c8</th>\n",
              "      <th>c9</th>\n",
              "    </tr>\n",
              "  </thead>\n",
              "  <tbody>\n",
              "    <tr>\n",
              "      <th>6</th>\n",
              "      <td>img_100002.jpg</td>\n",
              "      <td>0.125422</td>\n",
              "      <td>0.11624</td>\n",
              "      <td>0.08671</td>\n",
              "      <td>0.091168</td>\n",
              "      <td>0.069222</td>\n",
              "      <td>0.17205</td>\n",
              "      <td>0.108546</td>\n",
              "      <td>0.052181</td>\n",
              "      <td>0.101418</td>\n",
              "      <td>0.077043</td>\n",
              "    </tr>\n",
              "  </tbody>\n",
              "</table>\n",
              "</div>\n",
              "      <button class=\"colab-df-convert\" onclick=\"convertToInteractive('df-f26af34a-c989-4b74-9d98-59eab43e5c02')\"\n",
              "              title=\"Convert this dataframe to an interactive table.\"\n",
              "              style=\"display:none;\">\n",
              "        \n",
              "  <svg xmlns=\"http://www.w3.org/2000/svg\" height=\"24px\"viewBox=\"0 0 24 24\"\n",
              "       width=\"24px\">\n",
              "    <path d=\"M0 0h24v24H0V0z\" fill=\"none\"/>\n",
              "    <path d=\"M18.56 5.44l.94 2.06.94-2.06 2.06-.94-2.06-.94-.94-2.06-.94 2.06-2.06.94zm-11 1L8.5 8.5l.94-2.06 2.06-.94-2.06-.94L8.5 2.5l-.94 2.06-2.06.94zm10 10l.94 2.06.94-2.06 2.06-.94-2.06-.94-.94-2.06-.94 2.06-2.06.94z\"/><path d=\"M17.41 7.96l-1.37-1.37c-.4-.4-.92-.59-1.43-.59-.52 0-1.04.2-1.43.59L10.3 9.45l-7.72 7.72c-.78.78-.78 2.05 0 2.83L4 21.41c.39.39.9.59 1.41.59.51 0 1.02-.2 1.41-.59l7.78-7.78 2.81-2.81c.8-.78.8-2.07 0-2.86zM5.41 20L4 18.59l7.72-7.72 1.47 1.35L5.41 20z\"/>\n",
              "  </svg>\n",
              "      </button>\n",
              "      \n",
              "  <style>\n",
              "    .colab-df-container {\n",
              "      display:flex;\n",
              "      flex-wrap:wrap;\n",
              "      gap: 12px;\n",
              "    }\n",
              "\n",
              "    .colab-df-convert {\n",
              "      background-color: #E8F0FE;\n",
              "      border: none;\n",
              "      border-radius: 50%;\n",
              "      cursor: pointer;\n",
              "      display: none;\n",
              "      fill: #1967D2;\n",
              "      height: 32px;\n",
              "      padding: 0 0 0 0;\n",
              "      width: 32px;\n",
              "    }\n",
              "\n",
              "    .colab-df-convert:hover {\n",
              "      background-color: #E2EBFA;\n",
              "      box-shadow: 0px 1px 2px rgba(60, 64, 67, 0.3), 0px 1px 3px 1px rgba(60, 64, 67, 0.15);\n",
              "      fill: #174EA6;\n",
              "    }\n",
              "\n",
              "    [theme=dark] .colab-df-convert {\n",
              "      background-color: #3B4455;\n",
              "      fill: #D2E3FC;\n",
              "    }\n",
              "\n",
              "    [theme=dark] .colab-df-convert:hover {\n",
              "      background-color: #434B5C;\n",
              "      box-shadow: 0px 1px 3px 1px rgba(0, 0, 0, 0.15);\n",
              "      filter: drop-shadow(0px 1px 2px rgba(0, 0, 0, 0.3));\n",
              "      fill: #FFFFFF;\n",
              "    }\n",
              "  </style>\n",
              "\n",
              "      <script>\n",
              "        const buttonEl =\n",
              "          document.querySelector('#df-f26af34a-c989-4b74-9d98-59eab43e5c02 button.colab-df-convert');\n",
              "        buttonEl.style.display =\n",
              "          google.colab.kernel.accessAllowed ? 'block' : 'none';\n",
              "\n",
              "        async function convertToInteractive(key) {\n",
              "          const element = document.querySelector('#df-f26af34a-c989-4b74-9d98-59eab43e5c02');\n",
              "          const dataTable =\n",
              "            await google.colab.kernel.invokeFunction('convertToInteractive',\n",
              "                                                     [key], {});\n",
              "          if (!dataTable) return;\n",
              "\n",
              "          const docLinkHtml = 'Like what you see? Visit the ' +\n",
              "            '<a target=\"_blank\" href=https://colab.research.google.com/notebooks/data_table.ipynb>data table notebook</a>'\n",
              "            + ' to learn more about interactive tables.';\n",
              "          element.innerHTML = '';\n",
              "          dataTable['output_type'] = 'display_data';\n",
              "          await google.colab.output.renderOutput(dataTable, element);\n",
              "          const docLink = document.createElement('div');\n",
              "          docLink.innerHTML = docLinkHtml;\n",
              "          element.appendChild(docLink);\n",
              "        }\n",
              "      </script>\n",
              "    </div>\n",
              "  </div>\n",
              "  "
            ],
            "text/plain": [
              "              img        c0       c1       c2        c3        c4       c5  \\\n",
              "6  img_100002.jpg  0.125422  0.11624  0.08671  0.091168  0.069222  0.17205   \n",
              "\n",
              "         c6        c7        c8        c9  \n",
              "6  0.108546  0.052181  0.101418  0.077043  "
            ]
          },
          "execution_count": 55,
          "metadata": {},
          "output_type": "execute_result"
        }
      ],
      "source": [
        "pred_df"
      ]
    },
    {
      "cell_type": "code",
      "execution_count": null,
      "metadata": {
        "colab": {
          "base_uri": "https://localhost:8080/"
        },
        "id": "TBjPAUt8-e1T",
        "outputId": "38184534-22b7-4c02-8906-42b2b0b1e282"
      },
      "outputs": [
        {
          "name": "stdout",
          "output_type": "stream",
          "text": [
            "classes; No. of Images; Description;\n",
            "\n",
            "Class 0    → 1,02,087   → Safe Driving\n",
            "Class 1    → 1,02,119   → using mobile phone with right hand\n",
            "Class 2    → 1,02,090   → talking on phone with right hand\n",
            "Class 3    → 1,02,064   → using mobile phone with left hand\n",
            "Class 4    → 1,02,147   →  talking on phone with left hand\n",
            "Class 5    → 1,02,073   → adjusting radio/ something with right hand\n",
            "Class 6    → 1,02,144   → drinking something with right hand\n",
            "Class 7    → 1,02,129   → turning back/taking something from back\n",
            "Class 8    → 1,02,144   → makeup/ hair setting with hand\n",
            "Class 9    → 1,01,725   → talking to co-passenger/ tuning head aside\n",
            "\n"
          ]
        }
      ],
      "source": [
        "f = os.path.join(dir , '/content/drive/MyDrive/Distracted Driver Detection/Classes_Description.txt')\n",
        "class_descr = open(f, 'r')\n",
        "content = class_descr.read()\n",
        "print(content)"
      ]
    },
    {
      "cell_type": "code",
      "execution_count": null,
      "metadata": {
        "colab": {
          "base_uri": "https://localhost:8080/"
        },
        "id": "68u9eE7GfwwV",
        "outputId": "d0c2d039-05fb-44b2-9a18-28980a0f094e"
      },
      "outputs": [
        {
          "output_type": "stream",
          "name": "stdout",
          "text": [
            "233/233 [==============================] - 908s 4s/step - loss: 0.1163 - accuracy: 0.9707 - precision: 0.9738 - recall: 0.9691 - f1_score: 0.9729\n"
          ]
        },
        {
          "output_type": "execute_result",
          "data": {
            "text/plain": [
              "[0.11634314060211182,\n",
              " 0.9706752896308899,\n",
              " 0.9737766981124878,\n",
              " 0.9690610766410828,\n",
              " 0.9728964567184448]"
            ]
          },
          "metadata": {},
          "execution_count": 40
        }
      ],
      "source": [
        "from tensorflow.keras.models import load_model\n",
        "\n",
        "model = load_model('/content/drive/MyDrive/Distracted Driver Detection/saved models/My_Model3.hdf5')\n",
        "\n",
        "#loss, accuracy, f1_score, precision, recall = model.evaluate(test_data, verbose=1)\n",
        "results = model.evaluate(val_data, verbose=1)\n",
        "results"
      ]
    },
    {
      "cell_type": "code",
      "execution_count": null,
      "metadata": {
        "colab": {
          "base_uri": "https://localhost:8080/"
        },
        "id": "i_UK1F4XyT-u",
        "outputId": "1f454c57-88fb-4a5a-cd20-e1c28b707a1c"
      },
      "outputs": [
        {
          "output_type": "stream",
          "name": "stdout",
          "text": [
            "233/233 [==============================] - 983s 4s/step - loss: 0.0374 - accuracy: 0.9890 - precision: 0.9906 - recall: 0.9879 - f1_score: 0.9889\n"
          ]
        },
        {
          "output_type": "execute_result",
          "data": {
            "text/plain": [
              "[0.03737679496407509,\n",
              " 0.988969624042511,\n",
              " 0.990558385848999,\n",
              " 0.9878934621810913,\n",
              " 0.9888802766799927]"
            ]
          },
          "metadata": {},
          "execution_count": 30
        }
      ],
      "source": [
        "from tensorflow.keras.models import load_model\n",
        "\n",
        "model = load_model('/content/drive/MyDrive/Distracted Driver Detection/saved models/My_final1.hdf5')\n",
        "\n",
        "#loss, accuracy, f1_score, precision, recall = model.evaluate(test_data, verbose=1)\n",
        "results = model.evaluate(val_data, verbose=1)\n",
        "results"
      ]
    },
    {
      "cell_type": "code",
      "source": [
        "from tensorflow.keras.models import load_model\n",
        "\n",
        "model = load_model('/content/drive/MyDrive/Distracted Driver Detection/saved models/My_Model1.hdf5')\n",
        "#model = load_model('/content/drive/MyDrive/Distracted Driver Detection/saved models/DDD1.hdf5')\n",
        "#model = load_model('/content/drive/MyDrive/Distracted Driver Detection/saved models/DDD2.hdf5')\n",
        "#model = load_model('/content/drive/MyDrive/Distracted Driver Detection/saved models/My_final_DDD.hdf5')\n",
        "\n",
        "\n",
        "#loss, accuracy, f1_score, precision, recall = model.evaluate(val_data, verbose=1)\n",
        "results = model.evaluate(val_data, verbose=1)\n",
        "results"
      ],
      "metadata": {
        "colab": {
          "base_uri": "https://localhost:8080/"
        },
        "id": "-1kE2jW-j4Ix",
        "outputId": "e1e10855-9b72-4765-a868-b92294fdceb8"
      },
      "execution_count": null,
      "outputs": [
        {
          "output_type": "stream",
          "name": "stdout",
          "text": [
            "233/233 [==============================] - 79s 326ms/step - loss: 0.0395 - accuracy: 0.9890\n"
          ]
        },
        {
          "output_type": "execute_result",
          "data": {
            "text/plain": [
              "[0.03946821391582489, 0.988969624042511]"
            ]
          },
          "metadata": {},
          "execution_count": 45
        }
      ]
    },
    {
      "cell_type": "code",
      "execution_count": null,
      "metadata": {
        "id": "w5ZVkhDF2ydF"
      },
      "outputs": [],
      "source": [
        "def print_confusion_matrix(confusion_matrix, class_names, figsize = (10,7), fontsize=14):\n",
        "    df_cm = pd.DataFrame(\n",
        "        confusion_matrix, index=class_names, columns=class_names,\n",
        "    )\n",
        "    img = plt.figure(figsize=figsize)\n",
        "    try:\n",
        "        heatmap = sns.heatmap(df_cm, annot=True, fmt=\"d\")\n",
        "    except ValueError:\n",
        "        raise ValueError(\"Confusion matrix values must be integers.\")\n",
        "    heatmap.yaxis.set_ticklabels(heatmap.yaxis.get_ticklabels(), rotation=0, ha='right', fontsize=fontsize)\n",
        "    heatmap.xaxis.set_ticklabels(heatmap.xaxis.get_ticklabels(), rotation=45, ha='right', fontsize=fontsize)\n",
        "    plt.ylabel('True label')\n",
        "    plt.xlabel('Predicted label')\n",
        "    img.savefig(os.path.join(model,\"confusion_matrix.png\"))\n",
        "    return img"
      ]
    },
    {
      "cell_type": "code",
      "execution_count": null,
      "metadata": {
        "id": "qVKBIxyR2yft",
        "colab": {
          "base_uri": "https://localhost:8080/"
        },
        "outputId": "c64d2eaa-a908-4491-ad7e-305c2e666361"
      },
      "outputs": [
        {
          "output_type": "stream",
          "name": "stdout",
          "text": [
            "233/233 [==============================] - 89s 328ms/step\n"
          ]
        }
      ],
      "source": [
        "preds = model.predict(val_data)\n",
        "ypred = np.argmax(preds,axis=1)\n",
        "ytest = np.argmax(val_data,axis=1)\n"
      ]
    },
    {
      "cell_type": "code",
      "source": [
        "preds = model.predict(val_data)\n",
        "ypred = np.argmax(preds,axis=1)\n",
        "ytest = np.argmax(val_data,axis=1)\n"
      ],
      "metadata": {
        "colab": {
          "base_uri": "https://localhost:8080/"
        },
        "id": "RSoxkIltjMZW",
        "outputId": "e30ba4d0-88a1-4d73-82fa-72173eba2094"
      },
      "execution_count": null,
      "outputs": [
        {
          "output_type": "stream",
          "name": "stdout",
          "text": [
            "233/233 [==============================] - 75s 309ms/step\n"
          ]
        }
      ]
    },
    {
      "cell_type": "code",
      "source": [
        "predict = model.predict(val_data)"
      ],
      "metadata": {
        "id": "QtNkG5mdnu3T",
        "colab": {
          "base_uri": "https://localhost:8080/"
        },
        "outputId": "2ec2495f-5c59-408a-a23d-d59221becf5a"
      },
      "execution_count": null,
      "outputs": [
        {
          "output_type": "stream",
          "name": "stdout",
          "text": [
            "257/257 [==============================] - 2730s 11s/step\n"
          ]
        }
      ]
    },
    {
      "cell_type": "code",
      "source": [
        "predicted_data = np.argmax(predict,axis=1)"
      ],
      "metadata": {
        "id": "cley3t4snypt"
      },
      "execution_count": null,
      "outputs": []
    },
    {
      "cell_type": "code",
      "source": [
        "testing_data = np.argmax(val_data,axis=1)"
      ],
      "metadata": {
        "id": "gGCr7L2anys6"
      },
      "execution_count": null,
      "outputs": []
    },
    {
      "cell_type": "code",
      "source": [
        "print(val_data)"
      ],
      "metadata": {
        "colab": {
          "base_uri": "https://localhost:8080/"
        },
        "id": "m9DClktXPq4o",
        "outputId": "a6047948-527d-47d2-8c46-77db3634fe22"
      },
      "execution_count": null,
      "outputs": [
        {
          "output_type": "stream",
          "name": "stdout",
          "text": [
            "<keras.preprocessing.image.DirectoryIterator object at 0x7fe15310d210>\n"
          ]
        }
      ]
    },
    {
      "cell_type": "code",
      "source": [
        "len(val_data)"
      ],
      "metadata": {
        "colab": {
          "base_uri": "https://localhost:8080/"
        },
        "id": "aJ2lfBjKPy4O",
        "outputId": "73051b3c-f6d8-4f6c-af01-63455a744e11"
      },
      "execution_count": null,
      "outputs": [
        {
          "output_type": "execute_result",
          "data": {
            "text/plain": [
              "257"
            ]
          },
          "metadata": {},
          "execution_count": 37
        }
      ]
    },
    {
      "cell_type": "code",
      "source": [
        "len(predict)"
      ],
      "metadata": {
        "colab": {
          "base_uri": "https://localhost:8080/"
        },
        "id": "-BGBuxGUQDva",
        "outputId": "53f5fd01-27bf-47ca-8e14-4cc029ceab24"
      },
      "execution_count": null,
      "outputs": [
        {
          "output_type": "execute_result",
          "data": {
            "text/plain": [
              "4102"
            ]
          },
          "metadata": {},
          "execution_count": 38
        }
      ]
    },
    {
      "cell_type": "code",
      "source": [],
      "metadata": {
        "id": "rzpa2s7ezvn7"
      },
      "execution_count": null,
      "outputs": []
    }
  ],
  "metadata": {
    "accelerator": "GPU",
    "colab": {
      "provenance": []
    },
    "gpuClass": "standard",
    "kernelspec": {
      "display_name": "Python 3",
      "name": "python3"
    },
    "language_info": {
      "name": "python"
    }
  },
  "nbformat": 4,
  "nbformat_minor": 0
}